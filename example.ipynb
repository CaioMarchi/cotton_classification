{
 "cells": [
  {
   "cell_type": "code",
   "execution_count": 1,
   "metadata": {},
   "outputs": [
    {
     "name": "stderr",
     "output_type": "stream",
     "text": [
      "2023-07-25 16:25:44.496528: I tensorflow/core/platform/cpu_feature_guard.cc:182] This TensorFlow binary is optimized to use available CPU instructions in performance-critical operations.\n",
      "To enable the following instructions: SSE4.1 SSE4.2 AVX AVX2 FMA, in other operations, rebuild TensorFlow with the appropriate compiler flags.\n",
      "/Users/caiomarchiorato/Desktop/cotton_classification/venv/lib/python3.10/site-packages/tensorflow_addons/utils/tfa_eol_msg.py:23: UserWarning: \n",
      "\n",
      "TensorFlow Addons (TFA) has ended development and introduction of new features.\n",
      "TFA has entered a minimal maintenance and release mode until a planned end of life in May 2024.\n",
      "Please modify downstream libraries to take dependencies from other repositories in our TensorFlow community (e.g. Keras, Keras-CV, and Keras-NLP). \n",
      "\n",
      "For more information see: https://github.com/tensorflow/addons/issues/2807 \n",
      "\n",
      "  warnings.warn(\n"
     ]
    }
   ],
   "source": [
    "from tensorflow.keras.preprocessing.image import ImageDataGenerator\n",
    "from tensorflow.keras import layers, models, datasets, regularizers\n",
    "from tensorflow.keras.utils import image_dataset_from_directory\n",
    "from sklearn.model_selection import train_test_split\n",
    "import tensorflow_docs as tfdocs\n",
    "import tensorflow_docs.modeling\n",
    "import tensorflow_addons as tfa\n",
    "import matplotlib.pyplot as plt\n",
    "from tensorflow import keras\n",
    "import tensorflow_docs.plots\n",
    "import tensorflow as tf\n",
    "import numpy as np\n",
    "import keras_tuner\n",
    "import tensorboard\n",
    "import tempfile\n",
    "import pathlib\n",
    "import os"
   ]
  },
  {
   "cell_type": "markdown",
   "metadata": {},
   "source": [
    "# Image Augmentation"
   ]
  },
  {
   "cell_type": "code",
   "execution_count": null,
   "metadata": {},
   "outputs": [],
   "source": [
    "from image_augmentation.data_augmentation import ImageDataAugmentation\n",
    "\n",
    "classes  = [\"classe1\",\"classe2\",\"classe3\",\"classe4\",\"classe5\"]\n",
    "data_dir = \"tlinter_otsu/\"\n",
    "\n",
    "data_augmentation = ImageDataAugmentation(classes= classes,\n",
    "                                          path = data_dir,\n",
    "                                          num_batches = 1)\n",
    "\n",
    "data_augmentation.image_augmentation()"
   ]
  },
  {
   "cell_type": "markdown",
   "metadata": {},
   "source": [
    "# Model Tuner"
   ]
  },
  {
   "cell_type": "code",
   "execution_count": 2,
   "metadata": {},
   "outputs": [
    {
     "name": "stdout",
     "output_type": "stream",
     "text": [
      "Found 447 files belonging to 5 classes.\n",
      "Found 25 files belonging to 5 classes.\n",
      "A pasta já existe\n",
      "INFO:tensorflow:Reloading Tuner from tuner/bayesian_optimization/tuner0.json\n",
      "Search space summary\n",
      "Default search space size: 9\n",
      "conv_1_filter (Int)\n",
      "{'default': None, 'conditions': [], 'min_value': 16, 'max_value': 64, 'step': 16, 'sampling': 'linear'}\n",
      "conv_1_kernel (Choice)\n",
      "{'default': 2, 'conditions': [], 'values': [2, 5], 'ordered': True}\n",
      "conv_2_filter (Int)\n",
      "{'default': None, 'conditions': [], 'min_value': 16, 'max_value': 128, 'step': 16, 'sampling': 'linear'}\n",
      "conv_2_kernel (Choice)\n",
      "{'default': 2, 'conditions': [], 'values': [2, 5], 'ordered': True}\n",
      "dense_1_units (Int)\n",
      "{'default': None, 'conditions': [], 'min_value': 32, 'max_value': 128, 'step': 16, 'sampling': 'linear'}\n",
      "dense_2_units (Int)\n",
      "{'default': None, 'conditions': [], 'min_value': 16, 'max_value': 64, 'step': 16, 'sampling': 'linear'}\n",
      "dense_3_activation (Choice)\n",
      "{'default': 'relu', 'conditions': [], 'values': ['relu', 'sigmoid'], 'ordered': False}\n",
      "dropout (Boolean)\n",
      "{'default': False, 'conditions': []}\n",
      "learning_rate (Choice)\n",
      "{'default': 0.01, 'conditions': [], 'values': [0.01, 0.001], 'ordered': True}\n",
      "None\n",
      "A pasta já existe\n",
      "INFO:tensorflow:Oracle triggered exit\n"
     ]
    }
   ],
   "source": [
    "from tensorflow.keras.preprocessing.image import ImageDataGenerator\n",
    "from tensorflow.keras.utils import image_dataset_from_directory\n",
    "from model_otimization.model_tuner import ModelTuner\n",
    "from model_otimization.build_hypermodel import BuildHypermodel\n",
    "\n",
    "#construindo o modelos com parametros ajustaveis\n",
    "hypermodel = BuildHypermodel()\n",
    "model_tuner = ModelTuner(image_size= 128, path= \"tuner\")\n",
    "\n",
    "\n",
    "train_data_dir = \"to_torch/train/\"\n",
    "valid_data_dir = \"to_torch/valid/\"\n",
    "\n",
    "train_data = LoadData(path= train_data_dir, num_batches= 1, image_size = 500)\n",
    "\n",
    "valid_data = LoadData(path= valid_data_dir, num_batches= 1, image_size = 500)\n",
    "\n",
    "train_data = train_data.get_data()\n",
    "valid_data = valid_data.get_data()\n",
    "\n",
    "tuned_model = model_tuner.tuner_bayesian_optimization(model = hypermodel, objective= \"val_acc\", training_Data=train_data, \n",
    "                                         valid_Data= valid_data,  epochs= 1, max_trials = 1)"
   ]
  },
  {
   "cell_type": "markdown",
   "metadata": {},
   "source": [
    "# Carregando e treinando"
   ]
  },
  {
   "cell_type": "code",
   "execution_count": 2,
   "metadata": {},
   "outputs": [
    {
     "name": "stdout",
     "output_type": "stream",
     "text": [
      "Found 447 files belonging to 5 classes.\n"
     ]
    },
    {
     "name": "stdout",
     "output_type": "stream",
     "text": [
      "Found 25 files belonging to 5 classes.\n"
     ]
    },
    {
     "name": "stderr",
     "output_type": "stream",
     "text": [
      "2023-07-25 16:25:56.474543: I tensorflow/core/common_runtime/pluggable_device/pluggable_device_factory.cc:306] Could not identify NUMA node of platform GPU ID 0, defaulting to 0. Your kernel may not have been built with NUMA support.\n",
      "2023-07-25 16:25:56.474597: I tensorflow/core/common_runtime/pluggable_device/pluggable_device_factory.cc:272] Created TensorFlow device (/job:localhost/replica:0/task:0/device:GPU:0 with 0 MB memory) -> physical PluggableDevice (device: 0, name: METAL, pci bus id: <undefined>)\n"
     ]
    },
    {
     "name": "stdout",
     "output_type": "stream",
     "text": [
      "Image_size: 500\n"
     ]
    },
    {
     "name": "stderr",
     "output_type": "stream",
     "text": [
      "2023-07-25 16:25:57.352844: I tensorflow/core/common_runtime/executor.cc:1197] [/device:CPU:0] (DEBUG INFO) Executor start aborting (this does not indicate an error and you can ignore this message): INVALID_ARGUMENT: You must feed a value for placeholder tensor 'Placeholder/_0' with dtype string and shape [447]\n",
      "\t [[{{node Placeholder/_0}}]]\n",
      "2023-07-25 16:25:57.353449: I tensorflow/core/common_runtime/executor.cc:1197] [/device:CPU:0] (DEBUG INFO) Executor start aborting (this does not indicate an error and you can ignore this message): INVALID_ARGUMENT: You must feed a value for placeholder tensor 'Placeholder/_4' with dtype int32 and shape [447]\n",
      "\t [[{{node Placeholder/_4}}]]\n",
      "2023-07-25 16:25:57.424871: W tensorflow/core/kernels/data/cache_dataset_ops.cc:856] The calling iterator did not fully read the dataset being cached. In order to avoid unexpected truncation of the dataset, the partially cached contents of the dataset  will be discarded. This can happen if you have an input pipeline similar to `dataset.cache().take(k).repeat()`. You should use `dataset.take(k).cache().repeat()` instead.\n"
     ]
    }
   ],
   "source": [
    "from load_data.load_data import LoadData\n",
    "\n",
    "train_data_dir = \"to_torch/train/\"\n",
    "valid_data_dir = \"to_torch/valid/\"\n",
    "\n",
    "train_data = LoadData(path= train_data_dir,\n",
    "                      num_batches= 1,\n",
    "                      image_size = 500)\n",
    "\n",
    "valid_data = LoadData(path= valid_data_dir,\n",
    "                      num_batches= 1,\n",
    "                      image_size = 500)\n",
    "\n",
    "train_data = train_data.get_data()\n",
    "valid_data = valid_data.get_data()\n",
    "\n",
    "for image_batch, labels_batch in train_data:\n",
    "    print(\"Image_size:\",image_batch.shape[2])\n",
    "    break"
   ]
  },
  {
   "cell_type": "code",
   "execution_count": 3,
   "metadata": {},
   "outputs": [],
   "source": [
    "import tensorflow as tf\n",
    "\n",
    "model_lenet5_maxpooling = tf.keras.Sequential([\n",
    "    layers.Rescaling(1./255, input_shape=(image_batch.shape[2], image_batch.shape[2], 3)),\n",
    "    tf.keras.layers.Conv2D(6, (3, 3), activation='relu',strides= (2,2)),\n",
    "    tf.keras.layers.Conv2D(16, (3, 3), activation='relu', strides=(2,2)),\n",
    "    \n",
    "    tf.keras.layers.Flatten(),\n",
    "    tf.keras.layers.Dense(120, activation='relu'),\n",
    "    tf.keras.layers.Dropout(rate=0.5),\n",
    "    \n",
    "    tf.keras.layers.Dense(84, activation='relu'),\n",
    "    tf.keras.layers.Dropout(rate=0.5),\n",
    "    \n",
    "    #TESTAR FUNÇAO SIGMOID (0)\n",
    "    tf.keras.layers.Dense(5, activation='softmax')])"
   ]
  },
  {
   "cell_type": "code",
   "execution_count": 4,
   "metadata": {},
   "outputs": [],
   "source": [
    "#compile and train\n",
    "from compile_and_fit.compile_and_fit import CompilerAndFit\n",
    "\n",
    "compile_fit = CompilerAndFit(train_Data= train_data,\n",
    "               valid_Data = valid_data,\n",
    "               path = \"lenet5_l2\",\n",
    "               monitor = \"acc\")"
   ]
  },
  {
   "cell_type": "code",
   "execution_count": 5,
   "metadata": {},
   "outputs": [
    {
     "name": "stdout",
     "output_type": "stream",
     "text": [
      "Tamanho dos Batchs (1,)\n",
      "Model: \"sequential\"\n",
      "_________________________________________________________________\n",
      " Layer (type)                Output Shape              Param #   \n",
      "=================================================================\n",
      " rescaling (Rescaling)       (None, 500, 500, 3)       0         \n",
      "                                                                 \n",
      " conv2d (Conv2D)             (None, 249, 249, 6)       168       \n",
      "                                                                 \n",
      " conv2d_1 (Conv2D)           (None, 124, 124, 16)      880       \n",
      "                                                                 \n",
      " flatten (Flatten)           (None, 246016)            0         \n",
      "                                                                 \n",
      " dense (Dense)               (None, 120)               29522040  \n",
      "                                                                 \n",
      " dropout (Dropout)           (None, 120)               0         \n",
      "                                                                 \n",
      " dense_1 (Dense)             (None, 84)                10164     \n",
      "                                                                 \n",
      " dropout_1 (Dropout)         (None, 84)                0         \n",
      "                                                                 \n",
      " dense_2 (Dense)             (None, 5)                 425       \n",
      "                                                                 \n",
      "=================================================================\n",
      "Total params: 29,533,677\n",
      "Trainable params: 29,533,677\n",
      "Non-trainable params: 0\n",
      "_________________________________________________________________\n",
      "Tamanho dos Batchs (1,)\n",
      "A pasta já existe\n"
     ]
    },
    {
     "name": "stderr",
     "output_type": "stream",
     "text": [
      "2023-07-25 16:26:02.478358: W tensorflow/core/kernels/data/cache_dataset_ops.cc:856] The calling iterator did not fully read the dataset being cached. In order to avoid unexpected truncation of the dataset, the partially cached contents of the dataset  will be discarded. This can happen if you have an input pipeline similar to `dataset.cache().take(k).repeat()`. You should use `dataset.take(k).cache().repeat()` instead.\n",
      "2023-07-25 16:26:02.653818: W tensorflow/core/kernels/data/cache_dataset_ops.cc:856] The calling iterator did not fully read the dataset being cached. In order to avoid unexpected truncation of the dataset, the partially cached contents of the dataset  will be discarded. This can happen if you have an input pipeline similar to `dataset.cache().take(k).repeat()`. You should use `dataset.take(k).cache().repeat()` instead.\n"
     ]
    },
    {
     "name": "stdout",
     "output_type": "stream",
     "text": [
      "Epoch 1/50\n"
     ]
    },
    {
     "name": "stderr",
     "output_type": "stream",
     "text": [
      "/Users/caiomarchiorato/Desktop/cotton_classification/venv/lib/python3.10/site-packages/keras/backend.py:5612: UserWarning: \"`sparse_categorical_crossentropy` received `from_logits=True`, but the `output` argument was produced by a Softmax activation and thus does not represent logits. Was this intended?\n",
      "  output, from_logits = _get_logits(\n",
      "2023-07-25 16:26:03.638679: I tensorflow/core/grappler/optimizers/custom_graph_optimizer_registry.cc:114] Plugin optimizer for device_type GPU is enabled.\n",
      "2023-07-25 16:26:03.720709: E tensorflow/core/grappler/optimizers/meta_optimizer.cc:954] model_pruner failed: INVALID_ARGUMENT: Graph does not contain terminal node AssignAddVariableOp_10.\n"
     ]
    },
    {
     "name": "stdout",
     "output_type": "stream",
     "text": [
      "  6/447 [..............................] - ETA: 32s - loss: 244.9702 - acc: 0.3333 - top5-acc: 0.5000WARNING:tensorflow:Callback method `on_train_batch_end` is slow compared to the batch time (batch time: 0.0361s vs `on_train_batch_end` time: 0.0363s). Check your callbacks.\n",
      "447/447 [==============================] - ETA: 0s - loss: 65.4185 - acc: 0.2170 - top5-acc: 0.4519"
     ]
    },
    {
     "name": "stderr",
     "output_type": "stream",
     "text": [
      "2023-07-25 16:26:33.114030: I tensorflow/core/common_runtime/executor.cc:1197] [/device:CPU:0] (DEBUG INFO) Executor start aborting (this does not indicate an error and you can ignore this message): INVALID_ARGUMENT: You must feed a value for placeholder tensor 'Placeholder/_4' with dtype int32 and shape [25]\n",
      "\t [[{{node Placeholder/_4}}]]\n",
      "2023-07-25 16:26:33.114489: I tensorflow/core/common_runtime/executor.cc:1197] [/device:CPU:0] (DEBUG INFO) Executor start aborting (this does not indicate an error and you can ignore this message): INVALID_ARGUMENT: You must feed a value for placeholder tensor 'Placeholder/_4' with dtype int32 and shape [25]\n",
      "\t [[{{node Placeholder/_4}}]]\n",
      "2023-07-25 16:26:33.247359: I tensorflow/core/grappler/optimizers/custom_graph_optimizer_registry.cc:114] Plugin optimizer for device_type GPU is enabled.\n"
     ]
    },
    {
     "name": "stdout",
     "output_type": "stream",
     "text": [
      "\n",
      "Epoch: 0, acc:0.2170,  loss:65.4185,  top5-acc:0.4519,  val_acc:0.2000,  val_loss:108.7246,  val_top5-acc:0.6800,  \n",
      "447/447 [==============================] - 32s 67ms/step - loss: 65.4185 - acc: 0.2170 - top5-acc: 0.4519 - val_loss: 108.7246 - val_acc: 0.2000 - val_top5-acc: 0.6800\n",
      "Epoch 2/50\n",
      "447/447 [==============================] - 30s 66ms/step - loss: 23.3067 - acc: 0.2148 - top5-acc: 0.4362 - val_loss: 49.4660 - val_acc: 0.2000 - val_top5-acc: 0.4000\n",
      "Epoch 3/50\n",
      "447/447 [==============================] - 29s 65ms/step - loss: 22.7501 - acc: 0.2170 - top5-acc: 0.3803 - val_loss: 39.6978 - val_acc: 0.2000 - val_top5-acc: 0.4000\n",
      "Epoch 4/50\n",
      "447/447 [==============================] - 29s 64ms/step - loss: 16.6576 - acc: 0.1834 - top5-acc: 0.3333 - val_loss: 36.1975 - val_acc: 0.2000 - val_top5-acc: 0.4000\n",
      "Epoch 5/50\n",
      "447/447 [==============================] - 29s 65ms/step - loss: 9.8132 - acc: 0.2931 - top5-acc: 0.5034 - val_loss: 15.1964 - val_acc: 0.2000 - val_top5-acc: 0.4000\n",
      "Epoch 6/50\n",
      "447/447 [==============================] - 29s 64ms/step - loss: 3.6013 - acc: 0.4116 - top5-acc: 0.6801 - val_loss: 16.7398 - val_acc: 0.2000 - val_top5-acc: 0.4000\n",
      "Epoch 7/50\n",
      "447/447 [==============================] - 29s 64ms/step - loss: 5.0353 - acc: 0.3535 - top5-acc: 0.5794 - val_loss: 17.5796 - val_acc: 0.2000 - val_top5-acc: 0.4000\n",
      "Epoch 8/50\n",
      "447/447 [==============================] - 29s 65ms/step - loss: 5.1605 - acc: 0.3557 - top5-acc: 0.6242 - val_loss: 23.5690 - val_acc: 0.2000 - val_top5-acc: 0.4000\n",
      "Epoch 9/50\n",
      "447/447 [==============================] - 29s 64ms/step - loss: 6.4695 - acc: 0.2953 - top5-acc: 0.5280 - val_loss: 11.9930 - val_acc: 0.2000 - val_top5-acc: 0.4000\n",
      "Epoch 10/50\n",
      "447/447 [==============================] - 29s 65ms/step - loss: 3.5349 - acc: 0.3333 - top5-acc: 0.5526 - val_loss: 11.1077 - val_acc: 0.2000 - val_top5-acc: 0.4000\n",
      "Epoch 11/50\n",
      "447/447 [==============================] - 29s 64ms/step - loss: 4.5145 - acc: 0.3043 - top5-acc: 0.5436 - val_loss: 10.7372 - val_acc: 0.2000 - val_top5-acc: 0.4000\n",
      "Epoch 12/50\n",
      "447/447 [==============================] - 29s 65ms/step - loss: 6.9366 - acc: 0.3557 - top5-acc: 0.5973 - val_loss: 21.6163 - val_acc: 0.2000 - val_top5-acc: 0.4000\n",
      "Epoch 13/50\n",
      "447/447 [==============================] - 29s 65ms/step - loss: 5.1202 - acc: 0.2975 - top5-acc: 0.4877 - val_loss: 11.9995 - val_acc: 0.2000 - val_top5-acc: 0.4000\n",
      "Epoch 14/50\n",
      "447/447 [==============================] - 29s 64ms/step - loss: 5.6349 - acc: 0.2796 - top5-acc: 0.5011 - val_loss: 15.1393 - val_acc: 0.2400 - val_top5-acc: 0.4000\n",
      "Epoch 15/50\n",
      "447/447 [==============================] - 29s 65ms/step - loss: 10.7469 - acc: 0.3356 - top5-acc: 0.5459 - val_loss: 21.6036 - val_acc: 0.2000 - val_top5-acc: 0.4000\n",
      "Epoch 16/50\n",
      "447/447 [==============================] - 29s 65ms/step - loss: 14.9458 - acc: 0.2438 - top5-acc: 0.4743 - val_loss: 7.0176 - val_acc: 0.2000 - val_top5-acc: 0.4000\n",
      "Epoch 17/50\n",
      "447/447 [==============================] - 29s 65ms/step - loss: 3.6575 - acc: 0.2953 - top5-acc: 0.4362 - val_loss: 7.9379 - val_acc: 0.2000 - val_top5-acc: 0.4000\n",
      "Epoch 18/50\n",
      "447/447 [==============================] - 29s 65ms/step - loss: 1.8628 - acc: 0.2595 - top5-acc: 0.4810 - val_loss: 7.2306 - val_acc: 0.2000 - val_top5-acc: 0.4000\n",
      "Epoch 19/50\n",
      "447/447 [==============================] - 29s 65ms/step - loss: 1.8353 - acc: 0.2707 - top5-acc: 0.4899 - val_loss: 6.6779 - val_acc: 0.2000 - val_top5-acc: 0.4000\n",
      "Epoch 20/50\n",
      "447/447 [==============================] - 29s 65ms/step - loss: 1.8210 - acc: 0.2908 - top5-acc: 0.5056 - val_loss: 6.0154 - val_acc: 0.2000 - val_top5-acc: 0.4000\n",
      "Epoch 21/50\n",
      "447/447 [==============================] - 29s 65ms/step - loss: 1.7605 - acc: 0.2953 - top5-acc: 0.5101 - val_loss: 5.4335 - val_acc: 0.2000 - val_top5-acc: 0.4000\n",
      "Epoch 22/50\n",
      "447/447 [==============================] - 29s 65ms/step - loss: 1.7342 - acc: 0.3110 - top5-acc: 0.5168 - val_loss: 5.3544 - val_acc: 0.2000 - val_top5-acc: 0.4000\n",
      "Epoch 23/50\n",
      "447/447 [==============================] - 29s 65ms/step - loss: 1.7022 - acc: 0.2931 - top5-acc: 0.5123 - val_loss: 4.2507 - val_acc: 0.2000 - val_top5-acc: 0.4000\n",
      "Epoch 24/50\n",
      "447/447 [==============================] - 29s 64ms/step - loss: 1.6716 - acc: 0.3065 - top5-acc: 0.4966 - val_loss: 4.1478 - val_acc: 0.2000 - val_top5-acc: 0.4000\n",
      "Epoch 25/50\n",
      "447/447 [==============================] - 29s 65ms/step - loss: 1.5439 - acc: 0.3132 - top5-acc: 0.5593 - val_loss: 1.5933 - val_acc: 0.2000 - val_top5-acc: 0.4000\n",
      "Epoch 26/50\n",
      "447/447 [==============================] - 29s 65ms/step - loss: 1.3506 - acc: 0.4049 - top5-acc: 0.6846 - val_loss: 1.5004 - val_acc: 0.4000 - val_top5-acc: 0.6000\n"
     ]
    }
   ],
   "source": [
    "history = compile_fit.compile_and_fit(model= model_lenet5_maxpooling,\n",
    "                                      max_epochs = 50)"
   ]
  },
  {
   "cell_type": "code",
   "execution_count": 7,
   "metadata": {},
   "outputs": [
    {
     "data": {
      "image/png": "[encoded data removed]",
      "text/plain": [
       "<Figure size 640x480 with 1 Axes>"
      ]
     },
     "metadata": {},
     "output_type": "display_data"
    }
   ],
   "source": [
    "compile_fit.plot_acc(history)"
   ]
  }
 ],
 "metadata": {
  "kernelspec": {
   "display_name": "venv",
   "language": "python",
   "name": "python3"
  },
  "language_info": {
   "codemirror_mode": {
    "name": "ipython",
    "version": 3
   },
   "file_extension": ".py",
   "mimetype": "text/x-python",
   "name": "python",
   "nbconvert_exporter": "python",
   "pygments_lexer": "ipython3",
   "version": "3.10.9"
  },
  "orig_nbformat": 4
 },
 "nbformat": 4,
 "nbformat_minor": 2
}
