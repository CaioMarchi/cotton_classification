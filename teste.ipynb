{
 "cells": [
  {
   "cell_type": "code",
   "execution_count": null,
   "metadata": {},
   "outputs": [],
   "source": [
    "from image_augmentation.data_augmentation import ImageDataAugmentation\n",
    "\n",
    "classes  = [\"classe1\",\"classe2\",\"classe3\",\"classe4\",\"classe5\"]\n",
    "data_dir = \"tlinter_otsu/\"\n",
    "\n",
    "data_augmentation = ImageDataAugmentation(classes= classes,\n",
    "                                          path = data_dir,\n",
    "                                          num_batches = 1)\n",
    "\n",
    "data_augmentation.image_augmentation()"
   ]
  },
  {
   "cell_type": "code",
   "execution_count": 2,
   "metadata": {},
   "outputs": [
    {
     "name": "stderr",
     "output_type": "stream",
     "text": [
      "2023-07-17 14:46:24.062455: I tensorflow/core/platform/cpu_feature_guard.cc:182] This TensorFlow binary is optimized to use available CPU instructions in performance-critical operations.\n",
      "To enable the following instructions: SSE4.1 SSE4.2 AVX AVX2 FMA, in other operations, rebuild TensorFlow with the appropriate compiler flags.\n"
     ]
    }
   ],
   "source": [
    "from model_otimization.model_tuner import ModelTuner\n",
    "from model_otimization.build_hypermodel import BuildHypermodel"
   ]
  },
  {
   "cell_type": "code",
   "execution_count": 3,
   "metadata": {},
   "outputs": [],
   "source": [
    "hypermodel = BuildHypermodel()\n",
    "model_tuner = ModelTuner(image_size= 128, path= \"tuner\")"
   ]
  },
  {
   "cell_type": "code",
   "execution_count": 4,
   "metadata": {},
   "outputs": [
    {
     "name": "stdout",
     "output_type": "stream",
     "text": [
      "Found 447 files belonging to 5 classes.\n"
     ]
    },
    {
     "name": "stderr",
     "output_type": "stream",
     "text": [
      "2023-07-17 14:49:13.442712: I tensorflow/core/common_runtime/pluggable_device/pluggable_device_factory.cc:306] Could not identify NUMA node of platform GPU ID 0, defaulting to 0. Your kernel may not have been built with NUMA support.\n",
      "2023-07-17 14:49:13.442771: I tensorflow/core/common_runtime/pluggable_device/pluggable_device_factory.cc:272] Created TensorFlow device (/job:localhost/replica:0/task:0/device:GPU:0 with 0 MB memory) -> physical PluggableDevice (device: 0, name: METAL, pci bus id: <undefined>)\n"
     ]
    },
    {
     "name": "stdout",
     "output_type": "stream",
     "text": [
      "Found 25 files belonging to 5 classes.\n",
      "A pasta já existe\n",
      "INFO:tensorflow:Reloading Tuner from tuner/bayesian_optimization/tuner0.json\n",
      "Search space summary\n",
      "Default search space size: 9\n",
      "conv_1_filter (Int)\n",
      "{'default': None, 'conditions': [], 'min_value': 16, 'max_value': 64, 'step': 16, 'sampling': 'linear'}\n",
      "conv_1_kernel (Choice)\n",
      "{'default': 2, 'conditions': [], 'values': [2, 5], 'ordered': True}\n",
      "conv_2_filter (Int)\n",
      "{'default': None, 'conditions': [], 'min_value': 16, 'max_value': 128, 'step': 16, 'sampling': 'linear'}\n",
      "conv_2_kernel (Choice)\n",
      "{'default': 2, 'conditions': [], 'values': [2, 5], 'ordered': True}\n",
      "dense_1_units (Int)\n",
      "{'default': None, 'conditions': [], 'min_value': 32, 'max_value': 128, 'step': 16, 'sampling': 'linear'}\n",
      "dense_2_units (Int)\n",
      "{'default': None, 'conditions': [], 'min_value': 16, 'max_value': 64, 'step': 16, 'sampling': 'linear'}\n",
      "dense_3_activation (Choice)\n",
      "{'default': 'relu', 'conditions': [], 'values': ['relu', 'sigmoid'], 'ordered': False}\n",
      "dropout (Boolean)\n",
      "{'default': False, 'conditions': []}\n",
      "learning_rate (Choice)\n",
      "{'default': 0.01, 'conditions': [], 'values': [0.01, 0.001], 'ordered': True}\n",
      "None\n",
      "A pasta já existe\n",
      "INFO:tensorflow:Oracle triggered exit\n"
     ]
    }
   ],
   "source": [
    "\n",
    "from tensorflow.keras.preprocessing.image import ImageDataGenerator\n",
    "from tensorflow.keras.utils import image_dataset_from_directory\n",
    "\n",
    "num_batches = 1\n",
    "classes = [\"classe1\",\"classe2\",\"classe3\",\"classe4\",\"classe5\"]\n",
    "image_size = 600\n",
    "\n",
    "train_data_dir = \"to_torch/train/\"\n",
    "test_data_dir = \"to_torch/test/\"\n",
    "valid_data_dir = \"to_torch/valid/\"\n",
    "\n",
    "train_data = image_dataset_from_directory(train_data_dir, batch_size=num_batches, class_names=classes, image_size=(image_size, image_size))\n",
    "valid_data = image_dataset_from_directory(valid_data_dir, batch_size=num_batches, class_names= classes, image_size= (image_size, image_size))\n",
    "\n",
    "tuned_model = model_tuner.tuner_bayesian_optimization(model = hypermodel, objective= \"val_acc\", training_Data=train_data, \n",
    "                                         valid_Data= valid_data,  epochs= 1, max_trials = 1)"
   ]
  }
 ],
 "metadata": {
  "kernelspec": {
   "display_name": "venv",
   "language": "python",
   "name": "python3"
  },
  "language_info": {
   "codemirror_mode": {
    "name": "ipython",
    "version": 3
   },
   "file_extension": ".py",
   "mimetype": "text/x-python",
   "name": "python",
   "nbconvert_exporter": "python",
   "pygments_lexer": "ipython3",
   "version": "3.10.9"
  },
  "orig_nbformat": 4
 },
 "nbformat": 4,
 "nbformat_minor": 2
}
