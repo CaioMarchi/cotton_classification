{
 "cells": [
  {
   "cell_type": "code",
   "execution_count": 1,
   "metadata": {},
   "outputs": [
    {
     "name": "stderr",
     "output_type": "stream",
     "text": [
      "2023-07-18 19:27:40.031032: I tensorflow/core/platform/cpu_feature_guard.cc:182] This TensorFlow binary is optimized to use available CPU instructions in performance-critical operations.\n",
      "To enable the following instructions: SSE4.1 SSE4.2 AVX AVX2 FMA, in other operations, rebuild TensorFlow with the appropriate compiler flags.\n",
      "/Users/caiomarchiorato/Desktop/visao_comp_algodao/venv/lib/python3.10/site-packages/tensorflow_addons/utils/tfa_eol_msg.py:23: UserWarning: \n",
      "\n",
      "TensorFlow Addons (TFA) has ended development and introduction of new features.\n",
      "TFA has entered a minimal maintenance and release mode until a planned end of life in May 2024.\n",
      "Please modify downstream libraries to take dependencies from other repositories in our TensorFlow community (e.g. Keras, Keras-CV, and Keras-NLP). \n",
      "\n",
      "For more information see: https://github.com/tensorflow/addons/issues/2807 \n",
      "\n",
      "  warnings.warn(\n"
     ]
    }
   ],
   "source": [
    "import numpy as np\n",
    "import tensorflow as tf\n",
    "from tensorflow import keras\n",
    "from tensorflow.keras import layers, models, datasets, regularizers\n",
    "import tensorflow_addons as tfa\n",
    "from sklearn.model_selection import train_test_split\n",
    "import matplotlib.pyplot as plt\n",
    "import os\n",
    "import keras_tuner\n",
    "import tensorflow_docs as tfdocs\n",
    "import tensorflow_docs.modeling\n",
    "import tensorflow_docs.plots\n",
    "import tensorboard\n",
    "import tempfile\n",
    "import pathlib"
   ]
  },
  {
   "cell_type": "markdown",
   "metadata": {},
   "source": [
    "## Configurações para melhorar a Pipeline de entrada"
   ]
  },
  {
   "cell_type": "code",
   "execution_count": 9,
   "metadata": {},
   "outputs": [
    {
     "name": "stdout",
     "output_type": "stream",
     "text": [
      "[PhysicalDevice(name='/physical_device:CPU:0', device_type='CPU'), PhysicalDevice(name='/physical_device:GPU:0', device_type='GPU')]\n"
     ]
    }
   ],
   "source": [
    "devices = tf.config.list_physical_devices()\n",
    "print(devices)\n",
    "a=tf.random.normal([100,100])\n",
    "b=tf.random.normal([100,100])\n",
    "c = a*b"
   ]
  },
  {
   "cell_type": "code",
   "execution_count": 10,
   "metadata": {},
   "outputs": [],
   "source": [
    "import os\n",
    "os.environ['TF_CPP_MIN_LOG_LEVEL'] = '2'\n"
   ]
  },
  {
   "cell_type": "code",
   "execution_count": 11,
   "metadata": {},
   "outputs": [
    {
     "name": "stdout",
     "output_type": "stream",
     "text": [
      "GPUs disponíveis: [PhysicalDevice(name='/physical_device:GPU:0', device_type='GPU')]\n"
     ]
    }
   ],
   "source": [
    "import tensorflow as tf\n",
    "tf.debugging.set_log_device_placement(False)\n",
    "# Verifique as GPUs disponíveis\n",
    "print(\"GPUs disponíveis:\", tf.config.list_physical_devices('GPU'))\n",
    "\n"
   ]
  },
  {
   "cell_type": "code",
   "execution_count": null,
   "metadata": {},
   "outputs": [],
   "source": [
    "valor_perda, valor_precisao = model_lenet5.evaluate(test_generator)\n",
    "print('\\nPrecisão na classificação das amostras de teste:', valor_precisao)"
   ]
  },
  {
   "cell_type": "markdown",
   "metadata": {},
   "source": [
    "## LeNet5"
   ]
  },
  {
   "cell_type": "code",
   "execution_count": null,
   "metadata": {},
   "outputs": [],
   "source": [
    "!pip install git+https://github.com/tensorflow/docs"
   ]
  },
  {
   "cell_type": "code",
   "execution_count": 2,
   "metadata": {},
   "outputs": [
    {
     "name": "stdout",
     "output_type": "stream",
     "text": [
      "Found 447 files belonging to 5 classes.\n"
     ]
    },
    {
     "name": "stdout",
     "output_type": "stream",
     "text": [
      "Found 25 files belonging to 5 classes.\n"
     ]
    },
    {
     "name": "stderr",
     "output_type": "stream",
     "text": [
      "2023-07-18 19:27:49.912930: I tensorflow/core/common_runtime/pluggable_device/pluggable_device_factory.cc:306] Could not identify NUMA node of platform GPU ID 0, defaulting to 0. Your kernel may not have been built with NUMA support.\n",
      "2023-07-18 19:27:49.912980: I tensorflow/core/common_runtime/pluggable_device/pluggable_device_factory.cc:272] Created TensorFlow device (/job:localhost/replica:0/task:0/device:GPU:0 with 0 MB memory) -> physical PluggableDevice (device: 0, name: METAL, pci bus id: <undefined>)\n"
     ]
    },
    {
     "name": "stdout",
     "output_type": "stream",
     "text": [
      "Found 25 files belonging to 1 classes.\n"
     ]
    }
   ],
   "source": [
    "from tensorflow.keras.preprocessing.image import ImageDataGenerator\n",
    "from tensorflow.keras.utils import image_dataset_from_directory\n",
    "\n",
    "num_batches = 10\n",
    "classes = [\"classe1\",\"classe2\",\"classe3\",\"classe4\",\"classe5\"]\n",
    "image_size = 400\n",
    "\n",
    "train_data_dir = \"to_torch/train/\"\n",
    "test_data_dir = \"to_torch/test/\"\n",
    "valid_data_dir = \"to_torch/valid/\"\n",
    "\n",
    "\n",
    "train_data = image_dataset_from_directory(train_data_dir, batch_size=num_batches, class_names=classes, image_size=(image_size, image_size))\n",
    "valid_data = image_dataset_from_directory(valid_data_dir, batch_size=num_batches, class_names= classes, image_size= (image_size, image_size))\n",
    "test_data = image_dataset_from_directory(test_data_dir, batch_size= num_batches, image_size= (image_size, image_size))"
   ]
  },
  {
   "cell_type": "code",
   "execution_count": 3,
   "metadata": {},
   "outputs": [],
   "source": [
    "n_train = (len(train_data) * num_batches)\n",
    "steps_per_epoch = n_train//num_batches"
   ]
  },
  {
   "cell_type": "code",
   "execution_count": null,
   "metadata": {},
   "outputs": [],
   "source": [
    "# Definindo a arquitetura da LeNet-5\n",
    "model_lenet5 = tf.keras.Sequential([\n",
    "    tf.keras.layers.Conv2D(6, (3, 3), activation='relu',strides= (2,2), input_shape=(image_size, image_size, 3)),\n",
    "    tf.keras.layers.MaxPooling2D((2, 2)),\n",
    "    \n",
    "    tf.keras.layers.Conv2D(16, (3, 3), activation='relu', strides=(2,2)),\n",
    "    tf.keras.layers.MaxPooling2D((2, 2)),\n",
    "    \n",
    "    tf.keras.layers.Flatten(),\n",
    "    tf.keras.layers.Dense(120, activation='relu'),\n",
    "    tf.keras.layers.Dropout(rate=0.5),\n",
    "    \n",
    "    tf.keras.layers.Dense(84, activation='relu'),\n",
    "    tf.keras.layers.Dropout(rate=0.5),\n",
    "    \n",
    "    #TESTAR FUNÇAO SIGMOID (0)\n",
    "    tf.keras.layers.Dense(5, activation='softmax')\n",
    "])\n",
    "\n",
    "# # Compilando o modelo\n",
    "# model_lenet5.compile(optimizer='adam', \n",
    "#               loss=tf.keras.losses.SparseCategoricalCrossentropy(from_logits=True), \n",
    "#               metrics=['accuracy'])\n",
    "\n",
    "# model_lenet5.summary()"
   ]
  },
  {
   "cell_type": "code",
   "execution_count": 4,
   "metadata": {},
   "outputs": [
    {
     "name": "stdout",
     "output_type": "stream",
     "text": [
      "['classe1', 'classe2', 'classe3', 'classe4', 'classe5']\n"
     ]
    }
   ],
   "source": [
    "class_names = train_data.class_names\n",
    "print(class_names)"
   ]
  },
  {
   "cell_type": "code",
   "execution_count": 5,
   "metadata": {},
   "outputs": [
    {
     "name": "stderr",
     "output_type": "stream",
     "text": [
      "2023-07-18 19:27:55.779326: I tensorflow/core/common_runtime/executor.cc:1197] [/device:CPU:0] (DEBUG INFO) Executor start aborting (this does not indicate an error and you can ignore this message): INVALID_ARGUMENT: You must feed a value for placeholder tensor 'Placeholder/_4' with dtype int32 and shape [447]\n",
      "\t [[{{node Placeholder/_4}}]]\n",
      "2023-07-18 19:27:55.779818: I tensorflow/core/common_runtime/executor.cc:1197] [/device:CPU:0] (DEBUG INFO) Executor start aborting (this does not indicate an error and you can ignore this message): INVALID_ARGUMENT: You must feed a value for placeholder tensor 'Placeholder/_4' with dtype int32 and shape [447]\n",
      "\t [[{{node Placeholder/_4}}]]\n"
     ]
    },
    {
     "name": "stdout",
     "output_type": "stream",
     "text": [
      "(10, 600, 600, 3)\n",
      "(10,)\n"
     ]
    }
   ],
   "source": [
    "for image_batch, labels_batch in train_data:\n",
    "    print(image_batch.shape)\n",
    "    print(labels_batch.shape)\n",
    "    break"
   ]
  },
  {
   "cell_type": "code",
   "execution_count": 6,
   "metadata": {},
   "outputs": [
    {
     "name": "stderr",
     "output_type": "stream",
     "text": [
      "2023-07-18 19:27:57.126724: I tensorflow/core/common_runtime/executor.cc:1197] [/device:CPU:0] (DEBUG INFO) Executor start aborting (this does not indicate an error and you can ignore this message): INVALID_ARGUMENT: You must feed a value for placeholder tensor 'Placeholder/_4' with dtype int32 and shape [447]\n",
      "\t [[{{node Placeholder/_4}}]]\n",
      "2023-07-18 19:27:57.127173: I tensorflow/core/common_runtime/executor.cc:1197] [/device:CPU:0] (DEBUG INFO) Executor start aborting (this does not indicate an error and you can ignore this message): INVALID_ARGUMENT: You must feed a value for placeholder tensor 'Placeholder/_0' with dtype string and shape [447]\n",
      "\t [[{{node Placeholder/_0}}]]\n"
     ]
    },
    {
     "name": "stdout",
     "output_type": "stream",
     "text": [
      "0.038497172 0.6803269\n"
     ]
    }
   ],
   "source": [
    "import numpy as np\n",
    "\n",
    "normalization_layer = tf.keras.layers.Rescaling(1./255)\n",
    "\n",
    "normalized_data = train_data.map(lambda x, y,: (normalization_layer(x), y))\n",
    "image_batch, labels_batch = next(iter(normalized_data))\n",
    "first_image = image_batch[0]\n",
    "\n",
    "print(np.min(first_image), np.max(first_image))"
   ]
  },
  {
   "cell_type": "code",
   "execution_count": 7,
   "metadata": {},
   "outputs": [],
   "source": [
    "AUTOTUNE = tf.data.AUTOTUNE\n",
    "\n",
    "train_data = train_data.cache().prefetch(buffer_size=AUTOTUNE)\n",
    "valid_data = valid_data.cache().prefetch(buffer_size=AUTOTUNE)"
   ]
  },
  {
   "cell_type": "code",
   "execution_count": 8,
   "metadata": {},
   "outputs": [],
   "source": [
    "lr_schedule = tf.keras.optimizers.schedules.InverseTimeDecay(\n",
    "    0.001,\n",
    "    decay_steps= steps_per_epoch*100,\n",
    "    decay_rate=1,\n",
    "    staircase=False\n",
    ")\n",
    "\n",
    "def get_log_dir(path):\n",
    "    if not os.path.exists(path):\n",
    "        os.makedirs(path)\n",
    "        print(\"Pasta criada com sucesso\")\n",
    "    else:\n",
    "        print(\"A pasta já existe\")\n",
    "    return path\n",
    "\n",
    "\n",
    "def get_callbacks(path):\n",
    "    return [\n",
    "        tfdocs.modeling.EpochDots(),\n",
    "        tf.keras.callbacks.EarlyStopping(monitor='acc', patience=20, mode=\"max\"),\n",
    "        tf.keras.callbacks.TensorBoard(log_dir= get_log_dir(path)),\n",
    "    ]\n",
    "\n",
    "def get_optimizer():\n",
    "    return tf.keras.optimizers.Adam(lr_schedule)\n",
    "\n",
    "def compile_and_fit(model, train_Data, validation_Data, max_epochs, callback_path,optimizer= None):\n",
    "    if optimizer is None:\n",
    "        optimizer = get_optimizer()\n",
    "    model.compile(optimizer= optimizer,\n",
    "                         loss=tf.keras.losses.SparseCategoricalCrossentropy(from_logits=True),\n",
    "                         metrics= [\n",
    "                             keras.metrics.SparseCategoricalAccuracy(name=\"acc\"),\n",
    "                             keras.metrics.SparseTopKCategoricalAccuracy(2, name=\"top5-acc\")]\n",
    "                         )\n",
    "    model.summary()\n",
    "    \n",
    "    history = model.fit(\n",
    "        train_Data,\n",
    "        steps_per_epoch= steps_per_epoch,\n",
    "        validation_data= validation_Data,\n",
    "        epochs= max_epochs,\n",
    "        callbacks= get_callbacks(callback_path)\n",
    "    )\n",
    "    return history\n"
   ]
  },
  {
   "cell_type": "code",
   "execution_count": 9,
   "metadata": {},
   "outputs": [
    {
     "ename": "NameError",
     "evalue": "name 'model_lenet5' is not defined",
     "output_type": "error",
     "traceback": [
      "\u001b[0;31m---------------------------------------------------------------------------\u001b[0m",
      "\u001b[0;31mNameError\u001b[0m                                 Traceback (most recent call last)",
      "Cell \u001b[0;32mIn[9], line 2\u001b[0m\n\u001b[1;32m      1\u001b[0m history \u001b[39m=\u001b[39m {}\n\u001b[0;32m----> 2\u001b[0m history[\u001b[39m\"\u001b[39m\u001b[39mlenet5\u001b[39m\u001b[39m\"\u001b[39m] \u001b[39m=\u001b[39m compile_and_fit(model_lenet5,\n\u001b[1;32m      3\u001b[0m                                            train_Data\u001b[39m=\u001b[39m train_data,\n\u001b[1;32m      4\u001b[0m                                            validation_Data\u001b[39m=\u001b[39m valid_data,\n\u001b[1;32m      5\u001b[0m                                            max_epochs\u001b[39m=\u001b[39m \u001b[39m100\u001b[39m,\n\u001b[1;32m      6\u001b[0m                                            callback_path\u001b[39m=\u001b[39m \u001b[39m\"\u001b[39m\u001b[39mlogs_lenet5\u001b[39m\u001b[39m\"\u001b[39m)\n",
      "\u001b[0;31mNameError\u001b[0m: name 'model_lenet5' is not defined"
     ]
    }
   ],
   "source": [
    "history = {}\n",
    "history[\"lenet5\"] = compile_and_fit(model_lenet5,\n",
    "                                           train_Data= train_data,\n",
    "                                           validation_Data= valid_data,\n",
    "                                           max_epochs= 100,\n",
    "                                           callback_path= \"logs_lenet5\")"
   ]
  },
  {
   "cell_type": "code",
   "execution_count": null,
   "metadata": {},
   "outputs": [],
   "source": [
    "plotter = tfdocs.plots.HistoryPlotter(metric = 'acc')\n",
    "plotter.plot(history)\n",
    "\n",
    "val_acc = history[\"lenet5\"].history['val_acc']\n",
    "max_val_acc = max(val_acc)\n",
    "\n",
    "print(\"Maior valor de val_acc observado:\", max_val_acc)\n",
    "\n",
    "plt.axhline(max_val_acc, color='red', linestyle='dashed', label='Max val_acc')\n",
    "plt.legend()\n",
    "\n",
    "# Mostrar o gráfico\n",
    "plt.show()"
   ]
  },
  {
   "cell_type": "markdown",
   "metadata": {},
   "source": [
    "### LeNet5 - regularizers L2"
   ]
  },
  {
   "cell_type": "code",
   "execution_count": null,
   "metadata": {},
   "outputs": [],
   "source": [
    "model_lenet5_l2 = tf.keras.Sequential([\n",
    "    tf.keras.layers.Conv2D(6, (3, 3), activation='relu',strides= (2,2), input_shape=(image_size, image_size, 3)),\n",
    "    tf.keras.layers.MaxPooling2D((2, 2)),\n",
    "    \n",
    "    tf.keras.layers.Conv2D(16, (3, 3), activation='relu', strides=(2,2)),\n",
    "    tf.keras.layers.MaxPooling2D((2, 2)),\n",
    "    \n",
    "    tf.keras.layers.Flatten(),\n",
    "    tf.keras.layers.Dense(120, activation='relu',\n",
    "                          kernel_regularizer= regularizers.l2(0.01)),\n",
    "    tf.keras.layers.Dropout(rate=0.25),\n",
    "    \n",
    "    tf.keras.layers.Dense(84, activation='relu',\n",
    "                          kernel_regularizer= regularizers.l2(0.01)),\n",
    "    tf.keras.layers.Dropout(rate=0.25),\n",
    "    \n",
    "    #TESTAR FUNÇAO SIGMOID (0)\n",
    "    tf.keras.layers.Dense(5, activation='softmax')\n",
    "])"
   ]
  },
  {
   "cell_type": "code",
   "execution_count": null,
   "metadata": {},
   "outputs": [],
   "source": [
    "history2 = {}\n",
    "history2[\"lenet5_l2\"] = compile_and_fit(model_lenet5_l2,\n",
    "                                           train_Data= train_data,\n",
    "                                           validation_Data= valid_data,\n",
    "                                           max_epochs= 50,\n",
    "                                           callback_path= \"lenet5_l2\")"
   ]
  },
  {
   "cell_type": "code",
   "execution_count": null,
   "metadata": {},
   "outputs": [],
   "source": [
    "plotter = tfdocs.plots.HistoryPlotter(metric = 'acc')\n",
    "plotter.plot(history2)\n",
    "\n",
    "val_acc = history2[\"lenet5_l2\"].history['val_acc']\n",
    "max_val_acc = max(val_acc)\n",
    "\n",
    "print(\"Maior valor de val_acc observado:\", max_val_acc)\n",
    "\n",
    "plt.axhline(max_val_acc, color='red', linestyle='dashed', label='Max val_acc')\n",
    "plt.legend()\n",
    "\n",
    "# Mostrar o gráfico\n",
    "plt.show()"
   ]
  },
  {
   "cell_type": "markdown",
   "metadata": {},
   "source": [
    "### LeNet5 - compiler SGD "
   ]
  },
  {
   "cell_type": "code",
   "execution_count": null,
   "metadata": {},
   "outputs": [],
   "source": [
    "lr_schedule = tf.keras.optimizers.schedules.InverseTimeDecay(\n",
    "    0.001,\n",
    "    decay_steps= steps_per_epoch*100,\n",
    "    decay_rate=1,\n",
    "    staircase=False\n",
    ")\n",
    "\n",
    "def get_log_dir(path):\n",
    "    if not os.path.exists(path):\n",
    "        os.makedirs(path)\n",
    "        print(\"Pasta criada com sucesso\")\n",
    "    else:\n",
    "        print(\"A pasta já existe\")\n",
    "    return path\n",
    "\n",
    "\n",
    "def get_callbacks(path):\n",
    "    return [\n",
    "        tfdocs.modeling.EpochDots(),\n",
    "        tf.keras.callbacks.EarlyStopping(monitor='acc', patience=20, mode=\"max\"),\n",
    "        tf.keras.callbacks.TensorBoard(log_dir= get_log_dir(path)),\n",
    "    ]\n",
    "\n",
    "def get_optimizer():\n",
    "    return tf.keras.optimizers.SGD(lr_schedule)\n",
    "\n",
    "def compile_and_fit(model, train_Data, validation_Data, max_epochs, callback_path,optimizer= None):\n",
    "    if optimizer is None:\n",
    "        optimizer = get_optimizer()\n",
    "    model.compile(optimizer= optimizer,\n",
    "                         loss=tf.keras.losses.SparseCategoricalCrossentropy(from_logits=True),\n",
    "                         metrics= [\n",
    "                             keras.metrics.SparseCategoricalAccuracy(name=\"acc\"),\n",
    "                             keras.metrics.SparseTopKCategoricalAccuracy(2, name=\"top5-acc\")]\n",
    "                         )\n",
    "    model.summary()\n",
    "    \n",
    "    history = model.fit(\n",
    "        train_Data,\n",
    "        steps_per_epoch= steps_per_epoch,\n",
    "        validation_data= validation_Data,\n",
    "        epochs= max_epochs,\n",
    "        callbacks= get_callbacks(callback_path)\n",
    "    )\n",
    "    return history\n",
    "\n",
    "model_lenet5_l2_sgd = tf.keras.Sequential([\n",
    "    tf.keras.layers.Conv2D(6, (3, 3), activation='relu',strides= (2,2), input_shape=(image_size, image_size, 3)),\n",
    "    tf.keras.layers.MaxPooling2D((2, 2)),\n",
    "    \n",
    "    tf.keras.layers.Conv2D(16, (3, 3), activation='relu', strides=(2,2)),\n",
    "    tf.keras.layers.MaxPooling2D((2, 2)),\n",
    "    \n",
    "    tf.keras.layers.Flatten(),\n",
    "    tf.keras.layers.Dense(120, activation='relu',\n",
    "                          kernel_regularizer= regularizers.l2(0.01)),\n",
    "    tf.keras.layers.Dropout(rate=0.5),\n",
    "    \n",
    "    tf.keras.layers.Dense(84, activation='relu',\n",
    "                          kernel_regularizer= regularizers.l2(0.01)),\n",
    "    tf.keras.layers.Dropout(rate=0.5),\n",
    "    \n",
    "    #TESTAR FUNÇAO SIGMOID (0)\n",
    "    tf.keras.layers.Dense(5, activation='softmax')\n",
    "])"
   ]
  },
  {
   "cell_type": "code",
   "execution_count": null,
   "metadata": {},
   "outputs": [],
   "source": [
    "history3 = {}\n",
    "history3[\"lenet5_sgd\"] = compile_and_fit(model_lenet5_l2_sgd,\n",
    "                                           train_Data= train_data,\n",
    "                                           validation_Data= valid_data,\n",
    "                                           max_epochs= 100,\n",
    "                                           callback_path= \"logs_lenet5\")"
   ]
  },
  {
   "cell_type": "code",
   "execution_count": null,
   "metadata": {},
   "outputs": [],
   "source": [
    "plotter = tfdocs.plots.HistoryPlotter(metric = 'acc')\n",
    "plotter.plot(history3)\n",
    "\n",
    "val_acc = history3[\"lenet5_sgd\"].history['val_acc']\n",
    "max_val_acc = max(val_acc)\n",
    "\n",
    "print(\"Maior valor de val_acc observado:\", max_val_acc)\n",
    "\n",
    "plt.axhline(max_val_acc, color='red', linestyle='dashed', label='Max val_acc')\n",
    "plt.legend()\n",
    "\n",
    "# Mostrar o gráfico\n",
    "plt.show()"
   ]
  },
  {
   "cell_type": "code",
   "execution_count": null,
   "metadata": {},
   "outputs": [],
   "source": [
    "predict = model.predict_generator(test_generator)\n",
    "\n",
    "get_best_hp(tuner_bayesian_optimization)"
   ]
  },
  {
   "cell_type": "code",
   "execution_count": null,
   "metadata": {},
   "outputs": [],
   "source": [
    "import matplotlib.pyplot as plt\n",
    "\n",
    "output_image = model_lenet5_l2.predict(test_data)\n",
    "plt.imshow(output_image)\n",
    "plt.show"
   ]
  },
  {
   "cell_type": "markdown",
   "metadata": {},
   "source": [
    "### LeNet5 - Dropouts 0.25"
   ]
  },
  {
   "cell_type": "code",
   "execution_count": 10,
   "metadata": {},
   "outputs": [],
   "source": [
    "lr_schedule = tf.keras.optimizers.schedules.InverseTimeDecay(\n",
    "    0.001,\n",
    "    decay_steps= steps_per_epoch*100,\n",
    "    decay_rate=1,\n",
    "    staircase=False\n",
    ")\n",
    "\n",
    "def get_log_dir(path):\n",
    "    if not os.path.exists(path):\n",
    "        os.makedirs(path)\n",
    "        print(\"Pasta criada com sucesso\")\n",
    "    else:\n",
    "        print(\"A pasta já existe\")\n",
    "    return path\n",
    "\n",
    "\n",
    "def get_callbacks(path):\n",
    "    return [\n",
    "        tfdocs.modeling.EpochDots(),\n",
    "        tf.keras.callbacks.EarlyStopping(monitor='acc', patience=20, mode=\"max\"),\n",
    "        tf.keras.callbacks.TensorBoard(log_dir= get_log_dir(path)),\n",
    "    ]\n",
    "\n",
    "def get_optimizer():\n",
    "    return tf.keras.optimizers.Adam(lr_schedule)\n",
    "\n",
    "def compile_and_fit(model, train_Data, validation_Data, max_epochs, callback_path,optimizer= None):\n",
    "    if optimizer is None:\n",
    "        optimizer = get_optimizer()\n",
    "    model.compile(optimizer= optimizer,\n",
    "                         loss=tf.keras.losses.SparseCategoricalCrossentropy(from_logits=True),\n",
    "                         metrics= [\n",
    "                             keras.metrics.SparseCategoricalAccuracy(name=\"acc\"),\n",
    "                             keras.metrics.SparseTopKCategoricalAccuracy(2, name=\"top5-acc\")]\n",
    "                         )\n",
    "    model.summary()\n",
    "    \n",
    "    history = model.fit(\n",
    "        train_Data,\n",
    "        steps_per_epoch= steps_per_epoch,\n",
    "        validation_data= validation_Data,\n",
    "        epochs= max_epochs,\n",
    "        callbacks= get_callbacks(callback_path)\n",
    "    )\n",
    "    return history"
   ]
  },
  {
   "cell_type": "code",
   "execution_count": 11,
   "metadata": {},
   "outputs": [],
   "source": [
    "\n",
    "# Definindo a arquitetura da LeNet-5\n",
    "model_lenet5_drop025 = tf.keras.Sequential([\n",
    "    tf.keras.layers.Conv2D(6, (3, 3), activation='relu',strides= (2,2), input_shape=(image_size, image_size, 3)),\n",
    "    tf.keras.layers.MaxPooling2D((2, 2)),\n",
    "    \n",
    "    tf.keras.layers.Conv2D(16, (3, 3), activation='relu', strides=(2,2)),\n",
    "    tf.keras.layers.MaxPooling2D((2, 2)),\n",
    "    \n",
    "    tf.keras.layers.Flatten(),\n",
    "    tf.keras.layers.Dense(120, activation='relu'),\n",
    "    tf.keras.layers.Dropout(rate=0.25),\n",
    "    \n",
    "    tf.keras.layers.Dense(84, activation='relu'),\n",
    "    tf.keras.layers.Dropout(rate=0.25),\n",
    "    \n",
    "    #TESTAR FUNÇAO SIGMOID (0)\n",
    "    tf.keras.layers.Dense(5, activation='softmax')\n",
    "])"
   ]
  },
  {
   "cell_type": "code",
   "execution_count": 12,
   "metadata": {},
   "outputs": [
    {
     "name": "stdout",
     "output_type": "stream",
     "text": [
      "Model: \"sequential\"\n",
      "_________________________________________________________________\n",
      " Layer (type)                Output Shape              Param #   \n",
      "=================================================================\n",
      " conv2d (Conv2D)             (None, 299, 299, 6)       168       \n",
      "                                                                 \n",
      " max_pooling2d (MaxPooling2D  (None, 149, 149, 6)      0         \n",
      " )                                                               \n",
      "                                                                 \n",
      " conv2d_1 (Conv2D)           (None, 74, 74, 16)        880       \n",
      "                                                                 \n",
      " max_pooling2d_1 (MaxPooling  (None, 37, 37, 16)       0         \n",
      " 2D)                                                             \n",
      "                                                                 \n",
      " flatten (Flatten)           (None, 21904)             0         \n",
      "                                                                 \n",
      " dense (Dense)               (None, 120)               2628600   \n",
      "                                                                 \n",
      " dropout (Dropout)           (None, 120)               0         \n",
      "                                                                 \n",
      " dense_1 (Dense)             (None, 84)                10164     \n",
      "                                                                 \n",
      " dropout_1 (Dropout)         (None, 84)                0         \n",
      "                                                                 \n",
      " dense_2 (Dense)             (None, 5)                 425       \n",
      "                                                                 \n",
      "=================================================================\n",
      "Total params: 2,640,237\n",
      "Trainable params: 2,640,237\n",
      "Non-trainable params: 0\n",
      "_________________________________________________________________\n",
      "Pasta criada com sucesso\n",
      "Epoch 1/100\n"
     ]
    },
    {
     "name": "stderr",
     "output_type": "stream",
     "text": [
      "2023-07-18 18:49:21.089511: I tensorflow/core/common_runtime/executor.cc:1197] [/device:CPU:0] (DEBUG INFO) Executor start aborting (this does not indicate an error and you can ignore this message): INVALID_ARGUMENT: You must feed a value for placeholder tensor 'Placeholder/_0' with dtype string and shape [447]\n",
      "\t [[{{node Placeholder/_0}}]]\n",
      "2023-07-18 18:49:21.089978: I tensorflow/core/common_runtime/executor.cc:1197] [/device:CPU:0] (DEBUG INFO) Executor start aborting (this does not indicate an error and you can ignore this message): INVALID_ARGUMENT: You must feed a value for placeholder tensor 'Placeholder/_0' with dtype string and shape [447]\n",
      "\t [[{{node Placeholder/_0}}]]\n",
      "/Users/caiomarchiorato/Desktop/visao_comp_algodao/venv/lib/python3.10/site-packages/keras/backend.py:5612: UserWarning: \"`sparse_categorical_crossentropy` received `from_logits=True`, but the `output` argument was produced by a Softmax activation and thus does not represent logits. Was this intended?\n",
      "  output, from_logits = _get_logits(\n",
      "2023-07-18 18:49:22.253422: I tensorflow/core/grappler/optimizers/custom_graph_optimizer_registry.cc:114] Plugin optimizer for device_type GPU is enabled.\n",
      "2023-07-18 18:49:22.355789: E tensorflow/core/grappler/optimizers/meta_optimizer.cc:954] model_pruner failed: INVALID_ARGUMENT: Graph does not contain terminal node AssignAddVariableOp_10.\n"
     ]
    },
    {
     "name": "stdout",
     "output_type": "stream",
     "text": [
      "45/45 [==============================] - ETA: 0s - loss: 1836.3615 - acc: 0.1924 - top5-acc: 0.7494"
     ]
    },
    {
     "name": "stderr",
     "output_type": "stream",
     "text": [
      "2023-07-18 18:49:28.231241: I tensorflow/core/common_runtime/executor.cc:1197] [/device:CPU:0] (DEBUG INFO) Executor start aborting (this does not indicate an error and you can ignore this message): INVALID_ARGUMENT: You must feed a value for placeholder tensor 'Placeholder/_0' with dtype string and shape [25]\n",
      "\t [[{{node Placeholder/_0}}]]\n",
      "2023-07-18 18:49:28.231691: I tensorflow/core/common_runtime/executor.cc:1197] [/device:CPU:0] (DEBUG INFO) Executor start aborting (this does not indicate an error and you can ignore this message): INVALID_ARGUMENT: You must feed a value for placeholder tensor 'Placeholder/_4' with dtype int32 and shape [25]\n",
      "\t [[{{node Placeholder/_4}}]]\n",
      "2023-07-18 18:49:28.377195: I tensorflow/core/grappler/optimizers/custom_graph_optimizer_registry.cc:114] Plugin optimizer for device_type GPU is enabled.\n"
     ]
    },
    {
     "name": "stdout",
     "output_type": "stream",
     "text": [
      "\n",
      "Epoch: 0, acc:0.1924,  loss:1836.3615,  top5-acc:0.7494,  val_acc:0.1600,  val_loss:2.8316,  val_top5-acc:0.3600,  \n",
      "45/45 [==============================] - 8s 128ms/step - loss: 1836.3615 - acc: 0.1924 - top5-acc: 0.7494 - val_loss: 2.8316 - val_acc: 0.1600 - val_top5-acc: 0.3600\n",
      "Epoch 2/100\n",
      "45/45 [==============================] - 5s 102ms/step - loss: 2.3618 - acc: 0.2819 - top5-acc: 0.4899 - val_loss: 1.9543 - val_acc: 0.0400 - val_top5-acc: 0.1600\n",
      "Epoch 3/100\n",
      "45/45 [==============================] - 5s 100ms/step - loss: 1.7651 - acc: 0.4899 - top5-acc: 0.7114 - val_loss: 2.1804 - val_acc: 0.1600 - val_top5-acc: 0.2800\n",
      "Epoch 4/100\n",
      "45/45 [==============================] - 5s 102ms/step - loss: 2.4928 - acc: 0.6107 - top5-acc: 0.7696 - val_loss: 4.5264 - val_acc: 0.1200 - val_top5-acc: 0.3600\n",
      "Epoch 5/100\n",
      "45/45 [==============================] - 5s 100ms/step - loss: 8.9918 - acc: 0.6532 - top5-acc: 0.8210 - val_loss: 5.7791 - val_acc: 0.1200 - val_top5-acc: 0.3600\n",
      "Epoch 6/100\n",
      "45/45 [==============================] - 5s 101ms/step - loss: 12.4397 - acc: 0.6309 - top5-acc: 0.8031 - val_loss: 5.1446 - val_acc: 0.1600 - val_top5-acc: 0.4400\n",
      "Epoch 7/100\n",
      "45/45 [==============================] - 5s 100ms/step - loss: 61.3391 - acc: 0.6040 - top5-acc: 0.8233 - val_loss: 110.7708 - val_acc: 0.2000 - val_top5-acc: 0.4000\n",
      "Epoch 8/100\n",
      "45/45 [==============================] - 5s 101ms/step - loss: 11.1879 - acc: 0.5101 - top5-acc: 0.7897 - val_loss: 2.4666 - val_acc: 0.2800 - val_top5-acc: 0.4400\n",
      "Epoch 9/100\n",
      "45/45 [==============================] - 5s 101ms/step - loss: 4.1220 - acc: 0.4989 - top5-acc: 0.7204 - val_loss: 4.1096 - val_acc: 0.2800 - val_top5-acc: 0.4800\n",
      "Epoch 10/100\n",
      "45/45 [==============================] - 5s 101ms/step - loss: 182.6702 - acc: 0.3087 - top5-acc: 0.6376 - val_loss: 3.3289 - val_acc: 0.2800 - val_top5-acc: 0.5200\n",
      "Epoch 11/100\n",
      "45/45 [==============================] - 5s 100ms/step - loss: 0.5727 - acc: 0.8300 - top5-acc: 0.9441 - val_loss: 2.4987 - val_acc: 0.3200 - val_top5-acc: 0.5200\n",
      "Epoch 12/100\n",
      "45/45 [==============================] - 5s 100ms/step - loss: 6.0813 - acc: 0.7919 - top5-acc: 0.8993 - val_loss: 2.1671 - val_acc: 0.3200 - val_top5-acc: 0.5200\n",
      "Epoch 13/100\n",
      "45/45 [==============================] - 5s 101ms/step - loss: 0.2596 - acc: 0.9150 - top5-acc: 0.9776 - val_loss: 2.3370 - val_acc: 0.2400 - val_top5-acc: 0.5200\n",
      "Epoch 14/100\n",
      "45/45 [==============================] - 5s 101ms/step - loss: 0.1655 - acc: 0.9351 - top5-acc: 0.9843 - val_loss: 2.7035 - val_acc: 0.2000 - val_top5-acc: 0.4800\n",
      "Epoch 15/100\n",
      "45/45 [==============================] - 5s 100ms/step - loss: 0.1150 - acc: 0.9642 - top5-acc: 0.9911 - val_loss: 2.8650 - val_acc: 0.2000 - val_top5-acc: 0.4800\n",
      "Epoch 16/100\n",
      "45/45 [==============================] - 5s 100ms/step - loss: 0.0708 - acc: 0.9866 - top5-acc: 0.9955 - val_loss: 2.8808 - val_acc: 0.2400 - val_top5-acc: 0.5200\n",
      "Epoch 17/100\n",
      "45/45 [==============================] - 5s 102ms/step - loss: 0.1044 - acc: 0.9933 - top5-acc: 0.9978 - val_loss: 2.8025 - val_acc: 0.4000 - val_top5-acc: 0.4400\n",
      "Epoch 18/100\n",
      "45/45 [==============================] - 5s 102ms/step - loss: 0.0337 - acc: 0.9888 - top5-acc: 1.0000 - val_loss: 3.0746 - val_acc: 0.2400 - val_top5-acc: 0.5200\n",
      "Epoch 19/100\n",
      "45/45 [==============================] - 5s 101ms/step - loss: 0.0114 - acc: 0.9978 - top5-acc: 1.0000 - val_loss: 2.9002 - val_acc: 0.2000 - val_top5-acc: 0.4800\n",
      "Epoch 20/100\n",
      "45/45 [==============================] - 5s 100ms/step - loss: 0.0081 - acc: 1.0000 - top5-acc: 1.0000 - val_loss: 2.9916 - val_acc: 0.2000 - val_top5-acc: 0.4400\n",
      "Epoch 21/100\n",
      "45/45 [==============================] - 5s 102ms/step - loss: 0.0028 - acc: 1.0000 - top5-acc: 1.0000 - val_loss: 3.0990 - val_acc: 0.2000 - val_top5-acc: 0.4000\n",
      "Epoch 22/100\n",
      "45/45 [==============================] - 5s 104ms/step - loss: 0.0018 - acc: 1.0000 - top5-acc: 1.0000 - val_loss: 3.1421 - val_acc: 0.2000 - val_top5-acc: 0.4000\n",
      "Epoch 23/100\n",
      "45/45 [==============================] - 5s 100ms/step - loss: 0.0012 - acc: 1.0000 - top5-acc: 1.0000 - val_loss: 3.1499 - val_acc: 0.2400 - val_top5-acc: 0.4800\n",
      "Epoch 24/100\n",
      "45/45 [==============================] - 5s 102ms/step - loss: 8.1684e-04 - acc: 1.0000 - top5-acc: 1.0000 - val_loss: 3.1664 - val_acc: 0.3200 - val_top5-acc: 0.4800\n",
      "Epoch 25/100\n",
      "45/45 [==============================] - 5s 100ms/step - loss: 7.7618e-04 - acc: 1.0000 - top5-acc: 1.0000 - val_loss: 3.2710 - val_acc: 0.2800 - val_top5-acc: 0.4800\n",
      "Epoch 26/100\n",
      "45/45 [==============================] - 5s 101ms/step - loss: 0.0012 - acc: 1.0000 - top5-acc: 1.0000 - val_loss: 3.2222 - val_acc: 0.3200 - val_top5-acc: 0.4400\n",
      "Epoch 27/100\n",
      "45/45 [==============================] - 5s 101ms/step - loss: 0.0017 - acc: 1.0000 - top5-acc: 1.0000 - val_loss: 3.7419 - val_acc: 0.4000 - val_top5-acc: 0.4800\n",
      "Epoch 28/100\n",
      "45/45 [==============================] - 5s 102ms/step - loss: 0.0405 - acc: 0.9821 - top5-acc: 0.9978 - val_loss: 3.0947 - val_acc: 0.3200 - val_top5-acc: 0.6000\n",
      "Epoch 29/100\n",
      "45/45 [==============================] - 5s 100ms/step - loss: 0.1878 - acc: 0.9776 - top5-acc: 0.9888 - val_loss: 3.1776 - val_acc: 0.3200 - val_top5-acc: 0.5200\n",
      "Epoch 30/100\n",
      "45/45 [==============================] - 5s 101ms/step - loss: 0.0216 - acc: 0.9933 - top5-acc: 1.0000 - val_loss: 4.1432 - val_acc: 0.2800 - val_top5-acc: 0.4800\n",
      "Epoch 31/100\n",
      "45/45 [==============================] - 5s 101ms/step - loss: 0.0026 - acc: 1.0000 - top5-acc: 1.0000 - val_loss: 4.2041 - val_acc: 0.2800 - val_top5-acc: 0.4800\n",
      "Epoch 32/100\n",
      "45/45 [==============================] - 5s 107ms/step - loss: 0.0016 - acc: 1.0000 - top5-acc: 1.0000 - val_loss: 4.2276 - val_acc: 0.2800 - val_top5-acc: 0.4800\n",
      "Epoch 33/100\n",
      "45/45 [==============================] - 5s 103ms/step - loss: 0.0012 - acc: 1.0000 - top5-acc: 1.0000 - val_loss: 4.2496 - val_acc: 0.2800 - val_top5-acc: 0.5200\n",
      "Epoch 34/100\n",
      "45/45 [==============================] - 5s 101ms/step - loss: 8.8788e-04 - acc: 1.0000 - top5-acc: 1.0000 - val_loss: 4.2742 - val_acc: 0.2800 - val_top5-acc: 0.5200\n",
      "Epoch 35/100\n",
      "45/45 [==============================] - 5s 101ms/step - loss: 6.6078e-04 - acc: 1.0000 - top5-acc: 1.0000 - val_loss: 4.2981 - val_acc: 0.2800 - val_top5-acc: 0.4800\n",
      "Epoch 36/100\n",
      "45/45 [==============================] - 5s 101ms/step - loss: 5.0724e-04 - acc: 1.0000 - top5-acc: 1.0000 - val_loss: 4.3166 - val_acc: 0.2800 - val_top5-acc: 0.5200\n",
      "Epoch 37/100\n",
      "45/45 [==============================] - 5s 101ms/step - loss: 4.0198e-04 - acc: 1.0000 - top5-acc: 1.0000 - val_loss: 4.3342 - val_acc: 0.2800 - val_top5-acc: 0.5200\n",
      "Epoch 38/100\n",
      "45/45 [==============================] - 5s 101ms/step - loss: 3.2896e-04 - acc: 1.0000 - top5-acc: 1.0000 - val_loss: 4.3530 - val_acc: 0.2800 - val_top5-acc: 0.4800\n",
      "Epoch 39/100\n",
      "45/45 [==============================] - 5s 102ms/step - loss: 2.7644e-04 - acc: 1.0000 - top5-acc: 1.0000 - val_loss: 4.3727 - val_acc: 0.2800 - val_top5-acc: 0.5200\n",
      "Epoch 40/100\n",
      "45/45 [==============================] - 5s 100ms/step - loss: 2.3640e-04 - acc: 1.0000 - top5-acc: 1.0000 - val_loss: 4.3950 - val_acc: 0.2800 - val_top5-acc: 0.5200\n"
     ]
    }
   ],
   "source": [
    "history4 = {}\n",
    "history4[\"lenet5_drop025\"] = compile_and_fit(model_lenet5_drop025,\n",
    "                                           train_Data= train_data,\n",
    "                                           validation_Data= valid_data,\n",
    "                                           max_epochs= 100,\n",
    "                                           callback_path= \"logs_lenet5\")"
   ]
  },
  {
   "cell_type": "code",
   "execution_count": 13,
   "metadata": {},
   "outputs": [
    {
     "name": "stdout",
     "output_type": "stream",
     "text": [
      "Maior valor de val_acc observado: 0.4000000059604645\n"
     ]
    },
    {
     "data": {
      "image/png": "[encoded data removed]",
      "text/plain": [
       "<Figure size 640x480 with 1 Axes>"
      ]
     },
     "metadata": {},
     "output_type": "display_data"
    }
   ],
   "source": [
    "plotter = tfdocs.plots.HistoryPlotter(metric = 'acc')\n",
    "plotter.plot(history4)\n",
    "\n",
    "val_acc = history4[\"lenet5_drop025\"].history['val_acc']\n",
    "max_val_acc = max(val_acc)\n",
    "\n",
    "print(\"Maior valor de val_acc observado:\", max_val_acc)\n",
    "\n",
    "plt.axhline(max_val_acc, color='red', linestyle='dashed', label='Max val_acc')\n",
    "plt.legend()\n",
    "\n",
    "# Mostrar o gráfico\n",
    "plt.show()"
   ]
  },
  {
   "cell_type": "markdown",
   "metadata": {},
   "source": [
    "### LeNet5 - Dropout 0.5 + L2"
   ]
  },
  {
   "cell_type": "code",
   "execution_count": 10,
   "metadata": {},
   "outputs": [],
   "source": [
    "model_lenet5_dropout_l2 = tf.keras.Sequential([\n",
    "    tf.keras.layers.Conv2D(6, (3, 3), activation='relu',strides= (2,2), input_shape=(image_size, image_size, 3)),\n",
    "    tf.keras.layers.MaxPooling2D((2, 2)),\n",
    "    \n",
    "    tf.keras.layers.Conv2D(16, (3, 3), activation='relu', strides=(2,2)),\n",
    "    tf.keras.layers.MaxPooling2D((2, 2)),\n",
    "    \n",
    "    tf.keras.layers.Flatten(),\n",
    "    tf.keras.layers.Dense(120, activation='relu',\n",
    "                          kernel_regularizer= regularizers.l2(0.01)),\n",
    "    tf.keras.layers.Dropout(rate=0.5),\n",
    "    \n",
    "    tf.keras.layers.Dense(84, activation='relu',\n",
    "                          kernel_regularizer= regularizers.l2(0.01)),\n",
    "    tf.keras.layers.Dropout(rate=0.5),\n",
    "    \n",
    "    #TESTAR FUNÇAO SIGMOID (0)\n",
    "    tf.keras.layers.Dense(5, activation='softmax')])"
   ]
  },
  {
   "cell_type": "code",
   "execution_count": 11,
   "metadata": {},
   "outputs": [
    {
     "name": "stdout",
     "output_type": "stream",
     "text": [
      "Model: \"sequential\"\n",
      "_________________________________________________________________\n",
      " Layer (type)                Output Shape              Param #   \n",
      "=================================================================\n",
      " conv2d (Conv2D)             (None, 299, 299, 6)       168       \n",
      "                                                                 \n",
      " max_pooling2d (MaxPooling2D  (None, 149, 149, 6)      0         \n",
      " )                                                               \n",
      "                                                                 \n",
      " conv2d_1 (Conv2D)           (None, 74, 74, 16)        880       \n",
      "                                                                 \n",
      " max_pooling2d_1 (MaxPooling  (None, 37, 37, 16)       0         \n",
      " 2D)                                                             \n",
      "                                                                 \n",
      " flatten (Flatten)           (None, 21904)             0         \n",
      "                                                                 \n",
      " dense (Dense)               (None, 120)               2628600   \n",
      "                                                                 \n",
      " dropout (Dropout)           (None, 120)               0         \n",
      "                                                                 \n",
      " dense_1 (Dense)             (None, 84)                10164     \n",
      "                                                                 \n",
      " dropout_1 (Dropout)         (None, 84)                0         \n",
      "                                                                 \n",
      " dense_2 (Dense)             (None, 5)                 425       \n",
      "                                                                 \n",
      "=================================================================\n",
      "Total params: 2,640,237\n",
      "Trainable params: 2,640,237\n",
      "Non-trainable params: 0\n",
      "_________________________________________________________________\n",
      "A pasta já existe\n",
      "Epoch 1/100\n"
     ]
    },
    {
     "name": "stderr",
     "output_type": "stream",
     "text": [
      "2023-07-18 19:02:48.028360: I tensorflow/core/common_runtime/executor.cc:1197] [/device:CPU:0] (DEBUG INFO) Executor start aborting (this does not indicate an error and you can ignore this message): INVALID_ARGUMENT: You must feed a value for placeholder tensor 'Placeholder/_4' with dtype int32 and shape [447]\n",
      "\t [[{{node Placeholder/_4}}]]\n",
      "2023-07-18 19:02:48.028834: I tensorflow/core/common_runtime/executor.cc:1197] [/device:CPU:0] (DEBUG INFO) Executor start aborting (this does not indicate an error and you can ignore this message): INVALID_ARGUMENT: You must feed a value for placeholder tensor 'Placeholder/_0' with dtype string and shape [447]\n",
      "\t [[{{node Placeholder/_0}}]]\n",
      "/Users/caiomarchiorato/Desktop/visao_comp_algodao/venv/lib/python3.10/site-packages/keras/backend.py:5612: UserWarning: \"`sparse_categorical_crossentropy` received `from_logits=True`, but the `output` argument was produced by a Softmax activation and thus does not represent logits. Was this intended?\n",
      "  output, from_logits = _get_logits(\n",
      "2023-07-18 19:02:48.926069: I tensorflow/core/grappler/optimizers/custom_graph_optimizer_registry.cc:114] Plugin optimizer for device_type GPU is enabled.\n",
      "2023-07-18 19:02:49.041253: E tensorflow/core/grappler/optimizers/meta_optimizer.cc:954] model_pruner failed: INVALID_ARGUMENT: Graph does not contain terminal node AssignAddVariableOp_10.\n"
     ]
    },
    {
     "name": "stdout",
     "output_type": "stream",
     "text": [
      "45/45 [==============================] - ETA: 0s - loss: 538.8649 - acc: 0.2394 - top5-acc: 0.7517"
     ]
    },
    {
     "name": "stderr",
     "output_type": "stream",
     "text": [
      "2023-07-18 19:02:55.245572: I tensorflow/core/common_runtime/executor.cc:1197] [/device:CPU:0] (DEBUG INFO) Executor start aborting (this does not indicate an error and you can ignore this message): INVALID_ARGUMENT: You must feed a value for placeholder tensor 'Placeholder/_0' with dtype string and shape [25]\n",
      "\t [[{{node Placeholder/_0}}]]\n",
      "2023-07-18 19:02:55.246023: I tensorflow/core/common_runtime/executor.cc:1197] [/device:CPU:0] (DEBUG INFO) Executor start aborting (this does not indicate an error and you can ignore this message): INVALID_ARGUMENT: You must feed a value for placeholder tensor 'Placeholder/_0' with dtype string and shape [25]\n",
      "\t [[{{node Placeholder/_0}}]]\n",
      "2023-07-18 19:02:55.380867: I tensorflow/core/grappler/optimizers/custom_graph_optimizer_registry.cc:114] Plugin optimizer for device_type GPU is enabled.\n"
     ]
    },
    {
     "name": "stdout",
     "output_type": "stream",
     "text": [
      "\n",
      "Epoch: 0, acc:0.2394,  loss:538.8649,  top5-acc:0.7517,  val_acc:0.2000,  val_loss:53.8869,  val_top5-acc:0.4000,  \n",
      "45/45 [==============================] - 8s 132ms/step - loss: 538.8649 - acc: 0.2394 - top5-acc: 0.7517 - val_loss: 53.8869 - val_acc: 0.2000 - val_top5-acc: 0.4000\n",
      "Epoch 2/100\n",
      "45/45 [==============================] - 5s 106ms/step - loss: 112.2882 - acc: 0.1969 - top5-acc: 0.4787 - val_loss: 12.4873 - val_acc: 0.2000 - val_top5-acc: 0.4000\n",
      "Epoch 3/100\n",
      "45/45 [==============================] - 5s 108ms/step - loss: 18.4323 - acc: 0.2573 - top5-acc: 0.4407 - val_loss: 5.7065 - val_acc: 0.2000 - val_top5-acc: 0.4000\n",
      "Epoch 4/100\n",
      "45/45 [==============================] - 5s 106ms/step - loss: 20.2519 - acc: 0.3289 - top5-acc: 0.5436 - val_loss: 6.3036 - val_acc: 0.2000 - val_top5-acc: 0.4800\n",
      "Epoch 5/100\n",
      "45/45 [==============================] - 5s 108ms/step - loss: 6.2012 - acc: 0.4609 - top5-acc: 0.6913 - val_loss: 6.7153 - val_acc: 0.2400 - val_top5-acc: 0.4000\n",
      "Epoch 6/100\n",
      "45/45 [==============================] - 5s 107ms/step - loss: 8.2970 - acc: 0.5951 - top5-acc: 0.8121 - val_loss: 10.9506 - val_acc: 0.2800 - val_top5-acc: 0.4400\n",
      "Epoch 7/100\n",
      "45/45 [==============================] - 5s 107ms/step - loss: 15.4140 - acc: 0.5839 - top5-acc: 0.8166 - val_loss: 16.1379 - val_acc: 0.3200 - val_top5-acc: 0.5200\n",
      "Epoch 8/100\n",
      "45/45 [==============================] - 5s 106ms/step - loss: 11.3338 - acc: 0.6488 - top5-acc: 0.8949 - val_loss: 13.5201 - val_acc: 0.3600 - val_top5-acc: 0.5200\n",
      "Epoch 9/100\n",
      "45/45 [==============================] - 5s 107ms/step - loss: 5.8974 - acc: 0.8322 - top5-acc: 0.9575 - val_loss: 22.5822 - val_acc: 0.2400 - val_top5-acc: 0.5200\n",
      "Epoch 10/100\n",
      "45/45 [==============================] - 5s 108ms/step - loss: 5.7551 - acc: 0.8434 - top5-acc: 0.9642 - val_loss: 14.0169 - val_acc: 0.2000 - val_top5-acc: 0.5600\n",
      "Epoch 11/100\n",
      "45/45 [==============================] - 5s 106ms/step - loss: 4.8208 - acc: 0.8926 - top5-acc: 0.9799 - val_loss: 12.4902 - val_acc: 0.3200 - val_top5-acc: 0.5200\n",
      "Epoch 12/100\n",
      "45/45 [==============================] - 5s 107ms/step - loss: 3.9338 - acc: 0.9239 - top5-acc: 0.9843 - val_loss: 19.6680 - val_acc: 0.3200 - val_top5-acc: 0.5600\n",
      "Epoch 13/100\n",
      "45/45 [==============================] - 5s 106ms/step - loss: 4.1484 - acc: 0.9351 - top5-acc: 0.9866 - val_loss: 19.8674 - val_acc: 0.3200 - val_top5-acc: 0.5600\n",
      "Epoch 14/100\n",
      "45/45 [==============================] - 5s 108ms/step - loss: 6.2787 - acc: 0.8926 - top5-acc: 0.9843 - val_loss: 21.0050 - val_acc: 0.2800 - val_top5-acc: 0.5200\n",
      "Epoch 15/100\n",
      "45/45 [==============================] - 5s 107ms/step - loss: 3.9157 - acc: 0.9374 - top5-acc: 1.0000 - val_loss: 27.7876 - val_acc: 0.2800 - val_top5-acc: 0.5600\n",
      "Epoch 16/100\n",
      "45/45 [==============================] - 5s 106ms/step - loss: 3.2308 - acc: 0.9687 - top5-acc: 0.9933 - val_loss: 21.8063 - val_acc: 0.3200 - val_top5-acc: 0.4400\n",
      "Epoch 17/100\n",
      "45/45 [==============================] - 5s 108ms/step - loss: 2.8912 - acc: 0.9933 - top5-acc: 1.0000 - val_loss: 23.7655 - val_acc: 0.2800 - val_top5-acc: 0.4800\n",
      "Epoch 18/100\n",
      "45/45 [==============================] - 5s 107ms/step - loss: 2.7658 - acc: 0.9955 - top5-acc: 1.0000 - val_loss: 23.8989 - val_acc: 0.2800 - val_top5-acc: 0.4800\n",
      "Epoch 19/100\n",
      "45/45 [==============================] - 5s 106ms/step - loss: 2.6971 - acc: 0.9955 - top5-acc: 1.0000 - val_loss: 20.9477 - val_acc: 0.2800 - val_top5-acc: 0.4800\n",
      "Epoch 20/100\n",
      "45/45 [==============================] - 5s 108ms/step - loss: 2.6441 - acc: 1.0000 - top5-acc: 1.0000 - val_loss: 21.7847 - val_acc: 0.2800 - val_top5-acc: 0.4800\n",
      "Epoch 21/100\n",
      "45/45 [==============================] - 5s 106ms/step - loss: 2.6133 - acc: 0.9955 - top5-acc: 1.0000 - val_loss: 16.9482 - val_acc: 0.2800 - val_top5-acc: 0.5200\n",
      "Epoch 22/100\n",
      "45/45 [==============================] - 5s 108ms/step - loss: 2.5775 - acc: 0.9955 - top5-acc: 1.0000 - val_loss: 20.4311 - val_acc: 0.2800 - val_top5-acc: 0.5600\n",
      "Epoch 23/100\n",
      "45/45 [==============================] - 5s 106ms/step - loss: 2.6547 - acc: 0.9911 - top5-acc: 1.0000 - val_loss: 20.5083 - val_acc: 0.2800 - val_top5-acc: 0.5200\n",
      "Epoch 24/100\n",
      "45/45 [==============================] - 5s 106ms/step - loss: 2.6890 - acc: 0.9776 - top5-acc: 0.9955 - val_loss: 24.3784 - val_acc: 0.2000 - val_top5-acc: 0.4800\n",
      "Epoch 25/100\n",
      "45/45 [==============================] - 5s 107ms/step - loss: 2.5813 - acc: 0.9866 - top5-acc: 1.0000 - val_loss: 23.0304 - val_acc: 0.2800 - val_top5-acc: 0.4800\n",
      "Epoch 26/100\n",
      "45/45 [==============================] - 5s 107ms/step - loss: 2.4195 - acc: 1.0000 - top5-acc: 1.0000 - val_loss: 22.6994 - val_acc: 0.2800 - val_top5-acc: 0.4800\n",
      "Epoch 27/100\n",
      "45/45 [==============================] - 5s 106ms/step - loss: 2.3768 - acc: 1.0000 - top5-acc: 1.0000 - val_loss: 25.9777 - val_acc: 0.2800 - val_top5-acc: 0.4800\n",
      "Epoch 28/100\n",
      "45/45 [==============================] - 5s 106ms/step - loss: 2.7791 - acc: 0.9754 - top5-acc: 0.9978 - val_loss: 17.3680 - val_acc: 0.2400 - val_top5-acc: 0.5200\n",
      "Epoch 29/100\n",
      "45/45 [==============================] - 5s 106ms/step - loss: 2.7053 - acc: 0.9664 - top5-acc: 0.9955 - val_loss: 25.9849 - val_acc: 0.2400 - val_top5-acc: 0.5200\n",
      "Epoch 30/100\n",
      "45/45 [==============================] - 5s 110ms/step - loss: 2.6784 - acc: 0.9709 - top5-acc: 1.0000 - val_loss: 15.1787 - val_acc: 0.2400 - val_top5-acc: 0.6400\n",
      "Epoch 31/100\n",
      "45/45 [==============================] - 5s 105ms/step - loss: 2.4787 - acc: 0.9888 - top5-acc: 1.0000 - val_loss: 15.5796 - val_acc: 0.2400 - val_top5-acc: 0.4800\n",
      "Epoch 32/100\n",
      "45/45 [==============================] - 5s 107ms/step - loss: 2.3092 - acc: 1.0000 - top5-acc: 1.0000 - val_loss: 14.2127 - val_acc: 0.2400 - val_top5-acc: 0.4400\n",
      "Epoch 33/100\n",
      "45/45 [==============================] - 5s 107ms/step - loss: 2.2683 - acc: 1.0000 - top5-acc: 1.0000 - val_loss: 14.1867 - val_acc: 0.2400 - val_top5-acc: 0.4400\n",
      "Epoch 34/100\n",
      "45/45 [==============================] - 5s 106ms/step - loss: 2.2273 - acc: 1.0000 - top5-acc: 1.0000 - val_loss: 14.1670 - val_acc: 0.2400 - val_top5-acc: 0.4400\n",
      "Epoch 35/100\n",
      "45/45 [==============================] - 5s 106ms/step - loss: 2.1875 - acc: 1.0000 - top5-acc: 1.0000 - val_loss: 14.0227 - val_acc: 0.2400 - val_top5-acc: 0.4400\n",
      "Epoch 36/100\n",
      "45/45 [==============================] - 5s 106ms/step - loss: 2.1486 - acc: 1.0000 - top5-acc: 1.0000 - val_loss: 14.1152 - val_acc: 0.2800 - val_top5-acc: 0.4400\n",
      "Epoch 37/100\n",
      "45/45 [==============================] - 5s 107ms/step - loss: 2.1108 - acc: 1.0000 - top5-acc: 1.0000 - val_loss: 13.9592 - val_acc: 0.2800 - val_top5-acc: 0.4400\n",
      "Epoch 38/100\n",
      "45/45 [==============================] - 5s 105ms/step - loss: 2.0740 - acc: 1.0000 - top5-acc: 1.0000 - val_loss: 13.9324 - val_acc: 0.2800 - val_top5-acc: 0.4400\n",
      "Epoch 39/100\n",
      "45/45 [==============================] - 5s 106ms/step - loss: 2.0380 - acc: 1.0000 - top5-acc: 1.0000 - val_loss: 13.9224 - val_acc: 0.2800 - val_top5-acc: 0.4400\n",
      "Epoch 40/100\n",
      "45/45 [==============================] - 5s 107ms/step - loss: 2.0030 - acc: 1.0000 - top5-acc: 1.0000 - val_loss: 13.8702 - val_acc: 0.2800 - val_top5-acc: 0.4400\n"
     ]
    }
   ],
   "source": [
    "history5 = {}\n",
    "history5[\"lenet5_drop_l2\"] = compile_and_fit(model_lenet5_dropout_l2,\n",
    "                                           train_Data= train_data,\n",
    "                                           validation_Data= valid_data,\n",
    "                                           max_epochs= 100,\n",
    "                                           callback_path= \"logs_lenet5_dropout_l2\")"
   ]
  },
  {
   "cell_type": "code",
   "execution_count": 12,
   "metadata": {},
   "outputs": [
    {
     "name": "stdout",
     "output_type": "stream",
     "text": [
      "Maior valor de val_acc observado: 0.36000001430511475\n"
     ]
    },
    {
     "data": {
      "image/png": "[encoded data removed]",
      "text/plain": [
       "<Figure size 640x480 with 1 Axes>"
      ]
     },
     "metadata": {},
     "output_type": "display_data"
    }
   ],
   "source": [
    "plotter = tfdocs.plots.HistoryPlotter(metric = 'acc')\n",
    "plotter.plot(history5)\n",
    "\n",
    "val_acc = history5[\"lenet5_drop_l2\"].history['val_acc']\n",
    "max_val_acc = max(val_acc)\n",
    "\n",
    "print(\"Maior valor de val_acc observado:\", max_val_acc)\n",
    "\n",
    "plt.axhline(max_val_acc, color='red', linestyle='dashed', label='Max val_acc')\n",
    "plt.legend()\n",
    "\n",
    "# Mostrar o gráfico\n",
    "plt.show()"
   ]
  },
  {
   "cell_type": "markdown",
   "metadata": {},
   "source": [
    "### LeNet5 - (-MaxPooling)"
   ]
  },
  {
   "cell_type": "code",
   "execution_count": 12,
   "metadata": {},
   "outputs": [],
   "source": [
    "model_lenet5_maxpooling = tf.keras.Sequential([\n",
    "    tf.keras.layers.Conv2D(6, (3, 3), activation='relu',strides= (2,2), input_shape=(image_size, image_size, 3)),\n",
    "    tf.keras.layers.Conv2D(16, (3, 3), activation='relu', strides=(2,2)),\n",
    "    \n",
    "    tf.keras.layers.Flatten(),\n",
    "    tf.keras.layers.Dense(120, activation='relu'),\n",
    "    tf.keras.layers.Dropout(rate=0.5),\n",
    "    \n",
    "    tf.keras.layers.Dense(84, activation='relu'),\n",
    "    tf.keras.layers.Dropout(rate=0.5),\n",
    "    \n",
    "    #TESTAR FUNÇAO SIGMOID (0)\n",
    "    tf.keras.layers.Dense(5, activation='softmax')])"
   ]
  },
  {
   "cell_type": "code",
   "execution_count": 13,
   "metadata": {},
   "outputs": [
    {
     "name": "stdout",
     "output_type": "stream",
     "text": [
      "Model: \"sequential\"\n",
      "_________________________________________________________________\n",
      " Layer (type)                Output Shape              Param #   \n",
      "=================================================================\n",
      " conv2d (Conv2D)             (None, 299, 299, 6)       168       \n",
      "                                                                 \n",
      " conv2d_1 (Conv2D)           (None, 149, 149, 16)      880       \n",
      "                                                                 \n",
      " flatten (Flatten)           (None, 355216)            0         \n",
      "                                                                 \n",
      " dense (Dense)               (None, 120)               42626040  \n",
      "                                                                 \n",
      " dropout (Dropout)           (None, 120)               0         \n",
      "                                                                 \n",
      " dense_1 (Dense)             (None, 84)                10164     \n",
      "                                                                 \n",
      " dropout_1 (Dropout)         (None, 84)                0         \n",
      "                                                                 \n",
      " dense_2 (Dense)             (None, 5)                 425       \n",
      "                                                                 \n",
      "=================================================================\n",
      "Total params: 42,637,677\n",
      "Trainable params: 42,637,677\n",
      "Non-trainable params: 0\n",
      "_________________________________________________________________\n",
      "A pasta já existe\n",
      "Epoch 1/100\n"
     ]
    },
    {
     "name": "stderr",
     "output_type": "stream",
     "text": [
      "2023-07-18 19:28:35.703603: I tensorflow/core/common_runtime/executor.cc:1197] [/device:CPU:0] (DEBUG INFO) Executor start aborting (this does not indicate an error and you can ignore this message): INVALID_ARGUMENT: You must feed a value for placeholder tensor 'Placeholder/_4' with dtype int32 and shape [447]\n",
      "\t [[{{node Placeholder/_4}}]]\n",
      "2023-07-18 19:28:35.704109: I tensorflow/core/common_runtime/executor.cc:1197] [/device:CPU:0] (DEBUG INFO) Executor start aborting (this does not indicate an error and you can ignore this message): INVALID_ARGUMENT: You must feed a value for placeholder tensor 'Placeholder/_0' with dtype string and shape [447]\n",
      "\t [[{{node Placeholder/_0}}]]\n",
      "/Users/caiomarchiorato/Desktop/visao_comp_algodao/venv/lib/python3.10/site-packages/keras/backend.py:5612: UserWarning: \"`sparse_categorical_crossentropy` received `from_logits=True`, but the `output` argument was produced by a Softmax activation and thus does not represent logits. Was this intended?\n",
      "  output, from_logits = _get_logits(\n",
      "2023-07-18 19:28:36.836145: I tensorflow/core/grappler/optimizers/custom_graph_optimizer_registry.cc:114] Plugin optimizer for device_type GPU is enabled.\n",
      "2023-07-18 19:28:36.939758: E tensorflow/core/grappler/optimizers/meta_optimizer.cc:954] model_pruner failed: INVALID_ARGUMENT: Graph does not contain terminal node AssignAddVariableOp_10.\n"
     ]
    },
    {
     "name": "stdout",
     "output_type": "stream",
     "text": [
      " 6/45 [===>..........................] - ETA: 9s - loss: 30442.7168 - acc: 0.1833 - top5-acc: 0.9333WARNING:tensorflow:Callback method `on_train_batch_end` is slow compared to the batch time (batch time: 0.0566s vs `on_train_batch_end` time: 0.1714s). Check your callbacks.\n",
      "45/45 [==============================] - ETA: 0s - loss: 20364.1406 - acc: 0.2394 - top5-acc: 0.9821"
     ]
    },
    {
     "name": "stderr",
     "output_type": "stream",
     "text": [
      "2023-07-18 19:28:48.083744: I tensorflow/core/common_runtime/executor.cc:1197] [/device:CPU:0] (DEBUG INFO) Executor start aborting (this does not indicate an error and you can ignore this message): INVALID_ARGUMENT: You must feed a value for placeholder tensor 'Placeholder/_0' with dtype string and shape [25]\n",
      "\t [[{{node Placeholder/_0}}]]\n",
      "2023-07-18 19:28:48.084198: I tensorflow/core/common_runtime/executor.cc:1197] [/device:CPU:0] (DEBUG INFO) Executor start aborting (this does not indicate an error and you can ignore this message): INVALID_ARGUMENT: You must feed a value for placeholder tensor 'Placeholder/_0' with dtype string and shape [25]\n",
      "\t [[{{node Placeholder/_0}}]]\n",
      "2023-07-18 19:28:48.210793: I tensorflow/core/grappler/optimizers/custom_graph_optimizer_registry.cc:114] Plugin optimizer for device_type GPU is enabled.\n"
     ]
    },
    {
     "name": "stdout",
     "output_type": "stream",
     "text": [
      "\n",
      "Epoch: 0, acc:0.2394,  loss:20364.1406,  top5-acc:0.9821,  val_acc:0.3200,  val_loss:2485.7258,  val_top5-acc:1.0000,  \n",
      "45/45 [==============================] - 13s 243ms/step - loss: 20364.1406 - acc: 0.2394 - top5-acc: 0.9821 - val_loss: 2485.7258 - val_acc: 0.3200 - val_top5-acc: 1.0000\n",
      "Epoch 2/100\n",
      "45/45 [==============================] - 10s 217ms/step - loss: 3131.2756 - acc: 0.3110 - top5-acc: 0.9732 - val_loss: 787.7397 - val_acc: 0.4000 - val_top5-acc: 1.0000\n",
      "Epoch 3/100\n",
      "45/45 [==============================] - 10s 216ms/step - loss: 1059.5023 - acc: 0.3915 - top5-acc: 0.9374 - val_loss: 89.3560 - val_acc: 0.4000 - val_top5-acc: 0.9200\n",
      "Epoch 4/100\n",
      "45/45 [==============================] - 10s 217ms/step - loss: 67.1300 - acc: 0.5078 - top5-acc: 0.7696 - val_loss: 9.4957 - val_acc: 0.5200 - val_top5-acc: 0.6800\n",
      "Epoch 5/100\n",
      "45/45 [==============================] - 10s 217ms/step - loss: 18.7649 - acc: 0.5928 - top5-acc: 0.7919 - val_loss: 8.5487 - val_acc: 0.5200 - val_top5-acc: 0.7200\n",
      "Epoch 6/100\n",
      "45/45 [==============================] - 10s 218ms/step - loss: 12.7776 - acc: 0.6488 - top5-acc: 0.8098 - val_loss: 6.2145 - val_acc: 0.6000 - val_top5-acc: 0.8400\n",
      "Epoch 7/100\n",
      "45/45 [==============================] - 10s 219ms/step - loss: 8.0752 - acc: 0.6957 - top5-acc: 0.8479 - val_loss: 6.2090 - val_acc: 0.4000 - val_top5-acc: 0.8800\n",
      "Epoch 8/100\n",
      "45/45 [==============================] - 10s 218ms/step - loss: 7.2548 - acc: 0.7517 - top5-acc: 0.8881 - val_loss: 11.9574 - val_acc: 0.4000 - val_top5-acc: 0.8000\n",
      "Epoch 9/100\n",
      "45/45 [==============================] - 10s 216ms/step - loss: 40.2367 - acc: 0.6689 - top5-acc: 0.8658 - val_loss: 10.7186 - val_acc: 0.5600 - val_top5-acc: 0.9200\n",
      "Epoch 10/100\n",
      "45/45 [==============================] - 10s 218ms/step - loss: 1313.7513 - acc: 0.3557 - top5-acc: 0.9083 - val_loss: 626.2613 - val_acc: 0.2000 - val_top5-acc: 0.9200\n",
      "Epoch 11/100\n",
      "45/45 [==============================] - 10s 217ms/step - loss: 203.9207 - acc: 0.4004 - top5-acc: 0.7472 - val_loss: 6.6530 - val_acc: 0.2400 - val_top5-acc: 0.6000\n",
      "Epoch 12/100\n",
      "45/45 [==============================] - 10s 218ms/step - loss: 7.0832 - acc: 0.6421 - top5-acc: 0.8770 - val_loss: 4.6917 - val_acc: 0.3600 - val_top5-acc: 0.6800\n",
      "Epoch 13/100\n",
      "45/45 [==============================] - 10s 218ms/step - loss: 6.7594 - acc: 0.7002 - top5-acc: 0.9105 - val_loss: 6.5997 - val_acc: 0.3200 - val_top5-acc: 0.6000\n",
      "Epoch 14/100\n",
      "45/45 [==============================] - 10s 217ms/step - loss: 7.7486 - acc: 0.7181 - top5-acc: 0.9038 - val_loss: 11.7660 - val_acc: 0.3200 - val_top5-acc: 0.6000\n",
      "Epoch 15/100\n",
      "45/45 [==============================] - 10s 218ms/step - loss: 6.1936 - acc: 0.7763 - top5-acc: 0.9016 - val_loss: 14.2821 - val_acc: 0.2800 - val_top5-acc: 0.4800\n",
      "Epoch 16/100\n",
      "45/45 [==============================] - 10s 217ms/step - loss: 2.9350 - acc: 0.8412 - top5-acc: 0.9508 - val_loss: 15.0855 - val_acc: 0.3200 - val_top5-acc: 0.5600\n",
      "Epoch 17/100\n",
      "45/45 [==============================] - 10s 217ms/step - loss: 4.3565 - acc: 0.8233 - top5-acc: 0.9418 - val_loss: 32.4348 - val_acc: 0.2000 - val_top5-acc: 0.4400\n",
      "Epoch 18/100\n",
      "45/45 [==============================] - 10s 219ms/step - loss: 9.7752 - acc: 0.7562 - top5-acc: 0.9195 - val_loss: 29.1148 - val_acc: 0.2400 - val_top5-acc: 0.4800\n",
      "Epoch 19/100\n",
      "45/45 [==============================] - 10s 217ms/step - loss: 10.6315 - acc: 0.8166 - top5-acc: 0.9441 - val_loss: 52.4249 - val_acc: 0.2000 - val_top5-acc: 0.4400\n",
      "Epoch 20/100\n",
      "45/45 [==============================] - 10s 217ms/step - loss: 19.0068 - acc: 0.7852 - top5-acc: 0.9284 - val_loss: 12.6492 - val_acc: 0.4000 - val_top5-acc: 0.7200\n",
      "Epoch 21/100\n",
      "45/45 [==============================] - 10s 217ms/step - loss: 2.0686 - acc: 0.8702 - top5-acc: 0.9709 - val_loss: 8.2782 - val_acc: 0.4000 - val_top5-acc: 0.6800\n",
      "Epoch 22/100\n",
      "45/45 [==============================] - 10s 219ms/step - loss: 1.4593 - acc: 0.9575 - top5-acc: 0.9888 - val_loss: 9.4524 - val_acc: 0.4000 - val_top5-acc: 0.7200\n",
      "Epoch 23/100\n",
      "45/45 [==============================] - 10s 218ms/step - loss: 0.7603 - acc: 0.9642 - top5-acc: 0.9911 - val_loss: 11.0778 - val_acc: 0.4000 - val_top5-acc: 0.6800\n",
      "Epoch 24/100\n",
      "45/45 [==============================] - 10s 217ms/step - loss: 0.6720 - acc: 0.9642 - top5-acc: 0.9866 - val_loss: 13.9855 - val_acc: 0.4000 - val_top5-acc: 0.6400\n",
      "Epoch 25/100\n",
      "45/45 [==============================] - 10s 217ms/step - loss: 0.3868 - acc: 0.9687 - top5-acc: 0.9933 - val_loss: 18.7990 - val_acc: 0.4000 - val_top5-acc: 0.5600\n",
      "Epoch 26/100\n",
      "45/45 [==============================] - 10s 217ms/step - loss: 0.5665 - acc: 0.9709 - top5-acc: 0.9866 - val_loss: 27.9709 - val_acc: 0.3200 - val_top5-acc: 0.5600\n",
      "Epoch 27/100\n",
      "45/45 [==============================] - 10s 218ms/step - loss: 4.0095 - acc: 0.9374 - top5-acc: 0.9843 - val_loss: 224.1666 - val_acc: 0.2000 - val_top5-acc: 0.5600\n",
      "Epoch 28/100\n",
      "45/45 [==============================] - 10s 218ms/step - loss: 20.0581 - acc: 0.7987 - top5-acc: 0.9553 - val_loss: 12.2434 - val_acc: 0.4000 - val_top5-acc: 0.6000\n",
      "Epoch 29/100\n",
      "45/45 [==============================] - 10s 217ms/step - loss: 18.4469 - acc: 0.8881 - top5-acc: 0.9843 - val_loss: 3.7433 - val_acc: 0.3600 - val_top5-acc: 0.7600\n",
      "Epoch 30/100\n",
      "45/45 [==============================] - 10s 217ms/step - loss: 33.3889 - acc: 0.7785 - top5-acc: 0.9575 - val_loss: 647.0211 - val_acc: 0.2000 - val_top5-acc: 0.8400\n",
      "Epoch 31/100\n",
      "45/45 [==============================] - 10s 218ms/step - loss: 201.9061 - acc: 0.6331 - top5-acc: 0.8904 - val_loss: 2.4881 - val_acc: 0.4400 - val_top5-acc: 0.5600\n",
      "Epoch 32/100\n",
      "45/45 [==============================] - 10s 218ms/step - loss: 10.9501 - acc: 0.7763 - top5-acc: 0.9306 - val_loss: 45.0372 - val_acc: 0.2000 - val_top5-acc: 0.3600\n",
      "Epoch 33/100\n",
      "45/45 [==============================] - 10s 218ms/step - loss: 5.8259 - acc: 0.8949 - top5-acc: 0.9664 - val_loss: 15.2470 - val_acc: 0.2400 - val_top5-acc: 0.4800\n",
      "Epoch 34/100\n",
      "45/45 [==============================] - 10s 217ms/step - loss: 4.2057 - acc: 0.9038 - top5-acc: 0.9687 - val_loss: 7.1326 - val_acc: 0.3600 - val_top5-acc: 0.6000\n",
      "Epoch 35/100\n",
      "45/45 [==============================] - 10s 217ms/step - loss: 6.0350 - acc: 0.9060 - top5-acc: 0.9776 - val_loss: 57.1934 - val_acc: 0.2000 - val_top5-acc: 0.5600\n",
      "Epoch 36/100\n",
      "45/45 [==============================] - 10s 217ms/step - loss: 35.7346 - acc: 0.7740 - top5-acc: 0.9195 - val_loss: 1.3596 - val_acc: 0.4000 - val_top5-acc: 0.6000\n",
      "Epoch 37/100\n",
      "45/45 [==============================] - 10s 218ms/step - loss: 0.5425 - acc: 0.9105 - top5-acc: 0.9664 - val_loss: 1.3751 - val_acc: 0.4000 - val_top5-acc: 0.6000\n",
      "Epoch 38/100\n",
      "45/45 [==============================] - 10s 218ms/step - loss: 0.3377 - acc: 0.9217 - top5-acc: 0.9776 - val_loss: 1.5191 - val_acc: 0.4000 - val_top5-acc: 0.5600\n",
      "Epoch 39/100\n",
      "45/45 [==============================] - 10s 217ms/step - loss: 0.2690 - acc: 0.9351 - top5-acc: 0.9843 - val_loss: 1.4346 - val_acc: 0.3600 - val_top5-acc: 0.6400\n",
      "Epoch 40/100\n",
      "45/45 [==============================] - 10s 217ms/step - loss: 0.1117 - acc: 0.9709 - top5-acc: 0.9911 - val_loss: 1.4380 - val_acc: 0.3600 - val_top5-acc: 0.6400\n",
      "Epoch 41/100\n",
      "45/45 [==============================] - 10s 219ms/step - loss: 0.0867 - acc: 0.9732 - top5-acc: 0.9933 - val_loss: 1.4431 - val_acc: 0.4000 - val_top5-acc: 0.6000\n",
      "Epoch 42/100\n",
      "45/45 [==============================] - 10s 217ms/step - loss: 28.6415 - acc: 0.8725 - top5-acc: 0.9463 - val_loss: 1123.3295 - val_acc: 0.2000 - val_top5-acc: 1.0000\n",
      "Epoch 43/100\n",
      "45/45 [==============================] - 10s 218ms/step - loss: 309.2980 - acc: 0.6868 - top5-acc: 0.9396 - val_loss: 6.7097 - val_acc: 0.4000 - val_top5-acc: 0.5600\n",
      "Epoch 44/100\n",
      "45/45 [==============================] - 10s 219ms/step - loss: 1.7882 - acc: 0.8300 - top5-acc: 0.9553 - val_loss: 15.2538 - val_acc: 0.4000 - val_top5-acc: 0.5600\n",
      "Epoch 45/100\n",
      "45/45 [==============================] - 10s 218ms/step - loss: 2.0358 - acc: 0.8412 - top5-acc: 0.9709 - val_loss: 14.6054 - val_acc: 0.4000 - val_top5-acc: 0.5200\n",
      "Epoch 46/100\n",
      "45/45 [==============================] - 10s 218ms/step - loss: 2338.4846 - acc: 0.5280 - top5-acc: 0.9866 - val_loss: 710.5322 - val_acc: 0.3600 - val_top5-acc: 1.0000\n",
      "Epoch 47/100\n",
      "45/45 [==============================] - 10s 218ms/step - loss: 676.8466 - acc: 0.6242 - top5-acc: 0.9597 - val_loss: 5.7215 - val_acc: 0.4000 - val_top5-acc: 0.8000\n",
      "Epoch 48/100\n",
      "45/45 [==============================] - 10s 217ms/step - loss: 80.5576 - acc: 0.6532 - top5-acc: 0.8881 - val_loss: 2.9605 - val_acc: 0.4800 - val_top5-acc: 0.8400\n",
      "Epoch 49/100\n",
      "45/45 [==============================] - 10s 217ms/step - loss: 0.9914 - acc: 0.9038 - top5-acc: 0.9642 - val_loss: 1.5392 - val_acc: 0.4400 - val_top5-acc: 0.6800\n",
      "Epoch 50/100\n",
      "45/45 [==============================] - 10s 218ms/step - loss: 0.3795 - acc: 0.9329 - top5-acc: 0.9799 - val_loss: 1.5630 - val_acc: 0.4400 - val_top5-acc: 0.6800\n",
      "Epoch 51/100\n",
      "45/45 [==============================] - 10s 217ms/step - loss: 0.2664 - acc: 0.9530 - top5-acc: 0.9754 - val_loss: 1.5917 - val_acc: 0.4400 - val_top5-acc: 0.6800\n",
      "Epoch 52/100\n",
      "45/45 [==============================] - 10s 217ms/step - loss: 0.2535 - acc: 0.9597 - top5-acc: 0.9821 - val_loss: 1.6117 - val_acc: 0.4400 - val_top5-acc: 0.6800\n",
      "Epoch 53/100\n",
      "45/45 [==============================] - 10s 218ms/step - loss: 0.2539 - acc: 0.9642 - top5-acc: 0.9821 - val_loss: 1.6344 - val_acc: 0.4400 - val_top5-acc: 0.6800\n",
      "Epoch 54/100\n",
      "45/45 [==============================] - 10s 218ms/step - loss: 0.2469 - acc: 0.9642 - top5-acc: 0.9821 - val_loss: 1.6631 - val_acc: 0.4400 - val_top5-acc: 0.6400\n",
      "Epoch 55/100\n",
      "45/45 [==============================] - 10s 220ms/step - loss: 0.2413 - acc: 0.9664 - top5-acc: 0.9843 - val_loss: 1.6975 - val_acc: 0.4000 - val_top5-acc: 0.6800\n",
      "Epoch 56/100\n",
      "45/45 [==============================] - 10s 217ms/step - loss: 0.2391 - acc: 0.9776 - top5-acc: 0.9866 - val_loss: 1.7310 - val_acc: 0.4000 - val_top5-acc: 0.7200\n",
      "Epoch 57/100\n",
      "45/45 [==============================] - 10s 218ms/step - loss: 0.2254 - acc: 0.9799 - top5-acc: 0.9888 - val_loss: 1.7745 - val_acc: 0.4000 - val_top5-acc: 0.7600\n",
      "Epoch 58/100\n",
      "45/45 [==============================] - 10s 218ms/step - loss: 0.2234 - acc: 0.9821 - top5-acc: 0.9933 - val_loss: 1.8346 - val_acc: 0.4800 - val_top5-acc: 0.8000\n",
      "Epoch 59/100\n",
      "45/45 [==============================] - 10s 218ms/step - loss: 0.2194 - acc: 0.9843 - top5-acc: 0.9933 - val_loss: 1.9388 - val_acc: 0.5200 - val_top5-acc: 0.7600\n",
      "Epoch 60/100\n",
      "45/45 [==============================] - 10s 218ms/step - loss: 0.1881 - acc: 0.9843 - top5-acc: 0.9955 - val_loss: 2.1026 - val_acc: 0.4800 - val_top5-acc: 0.7600\n",
      "Epoch 61/100\n",
      "45/45 [==============================] - 10s 217ms/step - loss: 0.1780 - acc: 0.9821 - top5-acc: 0.9933 - val_loss: 2.3775 - val_acc: 0.4800 - val_top5-acc: 0.6800\n",
      "Epoch 62/100\n",
      "45/45 [==============================] - 10s 220ms/step - loss: 0.1734 - acc: 0.9843 - top5-acc: 0.9933 - val_loss: 2.7835 - val_acc: 0.5600 - val_top5-acc: 0.7200\n",
      "Epoch 63/100\n",
      "45/45 [==============================] - 10s 215ms/step - loss: 0.1151 - acc: 0.9799 - top5-acc: 0.9978 - val_loss: 3.7224 - val_acc: 0.4800 - val_top5-acc: 0.7200\n",
      "Epoch 64/100\n",
      "45/45 [==============================] - 13s 287ms/step - loss: 0.0758 - acc: 0.9911 - top5-acc: 0.9955 - val_loss: 3.8162 - val_acc: 0.4800 - val_top5-acc: 0.7600\n",
      "Epoch 65/100\n",
      "45/45 [==============================] - 10s 227ms/step - loss: 0.0562 - acc: 0.9888 - top5-acc: 0.9978 - val_loss: 3.8749 - val_acc: 0.4800 - val_top5-acc: 0.7600\n",
      "Epoch 66/100\n",
      "45/45 [==============================] - 10s 213ms/step - loss: 0.0430 - acc: 0.9911 - top5-acc: 0.9978 - val_loss: 3.9026 - val_acc: 0.4800 - val_top5-acc: 0.7600\n",
      "Epoch 67/100\n",
      "45/45 [==============================] - 10s 213ms/step - loss: 0.0339 - acc: 0.9933 - top5-acc: 0.9978 - val_loss: 3.8866 - val_acc: 0.4800 - val_top5-acc: 0.7600\n",
      "Epoch 68/100\n",
      "45/45 [==============================] - 10s 213ms/step - loss: 0.0151 - acc: 0.9955 - top5-acc: 1.0000 - val_loss: 3.8922 - val_acc: 0.4800 - val_top5-acc: 0.7600\n",
      "Epoch 69/100\n",
      "45/45 [==============================] - 10s 213ms/step - loss: 0.0140 - acc: 0.9955 - top5-acc: 1.0000 - val_loss: 3.9015 - val_acc: 0.5200 - val_top5-acc: 0.7600\n",
      "Epoch 70/100\n",
      "45/45 [==============================] - 10s 214ms/step - loss: 0.0130 - acc: 0.9978 - top5-acc: 1.0000 - val_loss: 3.9094 - val_acc: 0.5200 - val_top5-acc: 0.7600\n",
      "Epoch 71/100\n",
      "45/45 [==============================] - 10s 213ms/step - loss: 0.0122 - acc: 0.9978 - top5-acc: 1.0000 - val_loss: 3.9150 - val_acc: 0.5200 - val_top5-acc: 0.7600\n",
      "Epoch 72/100\n",
      "45/45 [==============================] - 10s 212ms/step - loss: 0.0110 - acc: 0.9978 - top5-acc: 1.0000 - val_loss: 3.9209 - val_acc: 0.5200 - val_top5-acc: 0.7600\n",
      "Epoch 73/100\n",
      "45/45 [==============================] - 10s 216ms/step - loss: 0.0102 - acc: 0.9978 - top5-acc: 1.0000 - val_loss: 3.9267 - val_acc: 0.5600 - val_top5-acc: 0.7600\n",
      "Epoch 74/100\n",
      "45/45 [==============================] - 10s 215ms/step - loss: 0.0091 - acc: 0.9978 - top5-acc: 1.0000 - val_loss: 3.9296 - val_acc: 0.5600 - val_top5-acc: 0.7600\n",
      "Epoch 75/100\n",
      "45/45 [==============================] - 10s 214ms/step - loss: 0.0083 - acc: 0.9978 - top5-acc: 1.0000 - val_loss: 3.9322 - val_acc: 0.5600 - val_top5-acc: 0.7600\n",
      "Epoch 76/100\n",
      "45/45 [==============================] - 10s 214ms/step - loss: 0.0074 - acc: 0.9978 - top5-acc: 1.0000 - val_loss: 3.9347 - val_acc: 0.5200 - val_top5-acc: 0.7600\n",
      "Epoch 77/100\n",
      "45/45 [==============================] - 10s 213ms/step - loss: 0.0065 - acc: 0.9978 - top5-acc: 1.0000 - val_loss: 3.9377 - val_acc: 0.4800 - val_top5-acc: 0.7600\n",
      "Epoch 78/100\n",
      "45/45 [==============================] - 10s 213ms/step - loss: 0.0058 - acc: 0.9978 - top5-acc: 1.0000 - val_loss: 3.9430 - val_acc: 0.4400 - val_top5-acc: 0.7600\n",
      "Epoch 79/100\n",
      "45/45 [==============================] - 10s 214ms/step - loss: 0.0051 - acc: 0.9978 - top5-acc: 1.0000 - val_loss: 3.9526 - val_acc: 0.4400 - val_top5-acc: 0.7600\n",
      "Epoch 80/100\n",
      "45/45 [==============================] - 10s 214ms/step - loss: 0.0043 - acc: 0.9978 - top5-acc: 1.0000 - val_loss: 3.9649 - val_acc: 0.4400 - val_top5-acc: 0.7600\n",
      "Epoch 81/100\n",
      "45/45 [==============================] - 10s 213ms/step - loss: 0.0036 - acc: 0.9978 - top5-acc: 1.0000 - val_loss: 3.9862 - val_acc: 0.4400 - val_top5-acc: 0.7600\n",
      "Epoch 82/100\n",
      "45/45 [==============================] - 10s 213ms/step - loss: 0.0033 - acc: 0.9978 - top5-acc: 1.0000 - val_loss: 4.0309 - val_acc: 0.4400 - val_top5-acc: 0.7600\n",
      "Epoch 83/100\n",
      "45/45 [==============================] - 10s 213ms/step - loss: 0.0031 - acc: 0.9978 - top5-acc: 1.0000 - val_loss: 4.1356 - val_acc: 0.4400 - val_top5-acc: 0.7600\n",
      "Epoch 84/100\n",
      "45/45 [==============================] - 10s 214ms/step - loss: 0.0026 - acc: 0.9978 - top5-acc: 1.0000 - val_loss: 4.3800 - val_acc: 0.4400 - val_top5-acc: 0.7600\n",
      "Epoch 85/100\n",
      "45/45 [==============================] - 10s 214ms/step - loss: 0.0020 - acc: 0.9978 - top5-acc: 1.0000 - val_loss: 4.9655 - val_acc: 0.4400 - val_top5-acc: 0.7600\n",
      "Epoch 86/100\n",
      "45/45 [==============================] - 10s 214ms/step - loss: 0.0031 - acc: 0.9978 - top5-acc: 1.0000 - val_loss: 6.7750 - val_acc: 0.4400 - val_top5-acc: 0.7600\n",
      "Epoch 87/100\n",
      "45/45 [==============================] - 10s 213ms/step - loss: 0.0172 - acc: 0.9978 - top5-acc: 1.0000 - val_loss: 4.1771 - val_acc: 0.4400 - val_top5-acc: 0.7600\n",
      "Epoch 88/100\n",
      "45/45 [==============================] - 10s 214ms/step - loss: 0.0094 - acc: 1.0000 - top5-acc: 1.0000 - val_loss: 4.1851 - val_acc: 0.4400 - val_top5-acc: 0.7200\n",
      "Epoch 89/100\n",
      "45/45 [==============================] - 10s 213ms/step - loss: 0.0081 - acc: 1.0000 - top5-acc: 1.0000 - val_loss: 4.1885 - val_acc: 0.4400 - val_top5-acc: 0.7200\n",
      "Epoch 90/100\n",
      "45/45 [==============================] - 10s 214ms/step - loss: 0.0067 - acc: 1.0000 - top5-acc: 1.0000 - val_loss: 4.1875 - val_acc: 0.5200 - val_top5-acc: 0.7600\n",
      "Epoch 91/100\n",
      "45/45 [==============================] - 10s 213ms/step - loss: 0.0054 - acc: 1.0000 - top5-acc: 1.0000 - val_loss: 4.1843 - val_acc: 0.5600 - val_top5-acc: 0.7600\n",
      "Epoch 92/100\n",
      "45/45 [==============================] - 10s 214ms/step - loss: 0.0043 - acc: 1.0000 - top5-acc: 1.0000 - val_loss: 4.1794 - val_acc: 0.5200 - val_top5-acc: 0.7600\n",
      "Epoch 93/100\n",
      "45/45 [==============================] - 10s 213ms/step - loss: 0.0034 - acc: 1.0000 - top5-acc: 1.0000 - val_loss: 4.1783 - val_acc: 0.4400 - val_top5-acc: 0.7600\n",
      "Epoch 94/100\n",
      "45/45 [==============================] - 10s 213ms/step - loss: 0.0026 - acc: 1.0000 - top5-acc: 1.0000 - val_loss: 4.1803 - val_acc: 0.4000 - val_top5-acc: 0.7600\n",
      "Epoch 95/100\n",
      "45/45 [==============================] - 10s 214ms/step - loss: 0.0020 - acc: 1.0000 - top5-acc: 1.0000 - val_loss: 4.1861 - val_acc: 0.4400 - val_top5-acc: 0.7200\n",
      "Epoch 96/100\n",
      "45/45 [==============================] - 10s 214ms/step - loss: 0.0016 - acc: 1.0000 - top5-acc: 1.0000 - val_loss: 4.1990 - val_acc: 0.4400 - val_top5-acc: 0.7200\n",
      "Epoch 97/100\n",
      "45/45 [==============================] - 10s 214ms/step - loss: 0.0012 - acc: 1.0000 - top5-acc: 1.0000 - val_loss: 4.2270 - val_acc: 0.4400 - val_top5-acc: 0.7200\n",
      "Epoch 98/100\n",
      "45/45 [==============================] - 10s 215ms/step - loss: 9.0559e-04 - acc: 1.0000 - top5-acc: 1.0000 - val_loss: 4.2806 - val_acc: 0.4400 - val_top5-acc: 0.6800\n",
      "Epoch 99/100\n",
      "45/45 [==============================] - 10s 214ms/step - loss: 7.8107e-04 - acc: 1.0000 - top5-acc: 1.0000 - val_loss: 4.3919 - val_acc: 0.4400 - val_top5-acc: 0.6800\n",
      "Epoch 100/100\n",
      "45/45 [==============================] - 10s 215ms/step - loss: 5.9258e-04 - acc: 1.0000 - top5-acc: 1.0000 - val_loss: 4.6503 - val_acc: 0.4400 - val_top5-acc: 0.6800\n"
     ]
    }
   ],
   "source": [
    "history6 = {}\n",
    "history6[\"lenet5_drop_maxp\"] = compile_and_fit(model_lenet5_maxpooling,\n",
    "                                           train_Data= train_data,\n",
    "                                           validation_Data= valid_data,\n",
    "                                           max_epochs= 100,\n",
    "                                           callback_path= \"logs_lenet5_dropout_l2\")"
   ]
  },
  {
   "cell_type": "code",
   "execution_count": 14,
   "metadata": {},
   "outputs": [
    {
     "name": "stdout",
     "output_type": "stream",
     "text": [
      "Maior valor de val_acc observado: 0.6000000238418579\n"
     ]
    },
    {
     "data": {
      "image/png": "[encoded data removed]",
      "text/plain": [
       "<Figure size 640x480 with 1 Axes>"
      ]
     },
     "metadata": {},
     "output_type": "display_data"
    }
   ],
   "source": [
    "plotter = tfdocs.plots.HistoryPlotter(metric = 'acc')\n",
    "plotter.plot(history6)\n",
    "\n",
    "val_acc = history6[\"lenet5_drop_maxp\"].history['val_acc']\n",
    "max_val_acc = max(val_acc)\n",
    "\n",
    "print(\"Maior valor de val_acc observado:\", max_val_acc)\n",
    "\n",
    "plt.axhline(max_val_acc, color='red', linestyle='dashed', label='Max val_acc')\n",
    "plt.legend()\n",
    "\n",
    "# Mostrar o gráfico\n",
    "plt.show()"
   ]
  },
  {
   "attachments": {},
   "cell_type": "markdown",
   "metadata": {},
   "source": [
    "## TensorBoard"
   ]
  },
  {
   "cell_type": "code",
   "execution_count": null,
   "metadata": {},
   "outputs": [],
   "source": [
    "import tensorboard\n",
    "%tensorboard --logdir ./logs\n"
   ]
  }
 ],
 "metadata": {
  "kernelspec": {
   "display_name": "venv",
   "language": "python",
   "name": "python3"
  },
  "language_info": {
   "codemirror_mode": {
    "name": "ipython",
    "version": 3
   },
   "file_extension": ".py",
   "mimetype": "text/x-python",
   "name": "python",
   "nbconvert_exporter": "python",
   "pygments_lexer": "ipython3",
   "version": "3.10.9"
  },
  "orig_nbformat": 4
 },
 "nbformat": 4,
 "nbformat_minor": 2
}
