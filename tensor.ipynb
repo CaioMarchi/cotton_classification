{
 "cells": [
  {
   "cell_type": "code",
   "execution_count": 1,
   "metadata": {},
   "outputs": [
    {
     "name": "stderr",
     "output_type": "stream",
     "text": [
      "2023-07-24 14:01:16.688632: I tensorflow/core/platform/cpu_feature_guard.cc:182] This TensorFlow binary is optimized to use available CPU instructions in performance-critical operations.\n",
      "To enable the following instructions: SSE4.1 SSE4.2 AVX AVX2 FMA, in other operations, rebuild TensorFlow with the appropriate compiler flags.\n",
      "/Users/caiomarchiorato/Desktop/cotton_classification/venv/lib/python3.10/site-packages/tensorflow_addons/utils/tfa_eol_msg.py:23: UserWarning: \n",
      "\n",
      "TensorFlow Addons (TFA) has ended development and introduction of new features.\n",
      "TFA has entered a minimal maintenance and release mode until a planned end of life in May 2024.\n",
      "Please modify downstream libraries to take dependencies from other repositories in our TensorFlow community (e.g. Keras, Keras-CV, and Keras-NLP). \n",
      "\n",
      "For more information see: https://github.com/tensorflow/addons/issues/2807 \n",
      "\n",
      "  warnings.warn(\n"
     ]
    }
   ],
   "source": [
    "from tensorflow.keras.preprocessing.image import ImageDataGenerator\n",
    "from tensorflow.keras import layers, models, datasets, regularizers\n",
    "from tensorflow.keras.utils import image_dataset_from_directory\n",
    "from sklearn.model_selection import train_test_split\n",
    "import tensorflow_docs as tfdocs\n",
    "import tensorflow_docs.modeling\n",
    "import tensorflow_addons as tfa\n",
    "import matplotlib.pyplot as plt\n",
    "from tensorflow import keras\n",
    "import tensorflow_docs.plots\n",
    "import tensorflow as tf\n",
    "import numpy as np\n",
    "import keras_tuner\n",
    "import tensorboard\n",
    "import tempfile\n",
    "import pathlib\n",
    "import os"
   ]
  },
  {
   "cell_type": "code",
   "execution_count": null,
   "metadata": {},
   "outputs": [],
   "source": [
    "!pip install git+https://github.com/tensorflow/docs"
   ]
  },
  {
   "cell_type": "markdown",
   "metadata": {},
   "source": [
    "## Configurações para melhorar a Pipeline de entrada"
   ]
  },
  {
   "cell_type": "code",
   "execution_count": 2,
   "metadata": {},
   "outputs": [
    {
     "name": "stdout",
     "output_type": "stream",
     "text": [
      "[PhysicalDevice(name='/physical_device:CPU:0', device_type='CPU'), PhysicalDevice(name='/physical_device:GPU:0', device_type='GPU')]\n"
     ]
    },
    {
     "name": "stderr",
     "output_type": "stream",
     "text": [
      "2023-07-24 14:01:22.043277: I tensorflow/core/common_runtime/pluggable_device/pluggable_device_factory.cc:306] Could not identify NUMA node of platform GPU ID 0, defaulting to 0. Your kernel may not have been built with NUMA support.\n",
      "2023-07-24 14:01:22.043329: I tensorflow/core/common_runtime/pluggable_device/pluggable_device_factory.cc:272] Created TensorFlow device (/job:localhost/replica:0/task:0/device:GPU:0 with 0 MB memory) -> physical PluggableDevice (device: 0, name: METAL, pci bus id: <undefined>)\n"
     ]
    }
   ],
   "source": [
    "devices = tf.config.list_physical_devices()\n",
    "print(devices)\n",
    "a=tf.random.normal([100,100])\n",
    "b=tf.random.normal([100,100])\n",
    "c = a*b"
   ]
  },
  {
   "cell_type": "code",
   "execution_count": 3,
   "metadata": {},
   "outputs": [],
   "source": [
    "os.environ['TF_CPP_MIN_LOG_LEVEL'] = '2'\n"
   ]
  },
  {
   "cell_type": "code",
   "execution_count": 4,
   "metadata": {},
   "outputs": [
    {
     "name": "stdout",
     "output_type": "stream",
     "text": [
      "GPUs disponíveis: [PhysicalDevice(name='/physical_device:GPU:0', device_type='GPU')]\n"
     ]
    }
   ],
   "source": [
    "tf.debugging.set_log_device_placement(False)\n",
    "# Verifique as GPUs disponíveis\n",
    "print(\"GPUs disponíveis:\", tf.config.list_physical_devices('GPU'))\n",
    "\n"
   ]
  },
  {
   "cell_type": "markdown",
   "metadata": {},
   "source": [
    "## LeNet5"
   ]
  },
  {
   "cell_type": "code",
   "execution_count": 37,
   "metadata": {},
   "outputs": [
    {
     "name": "stdout",
     "output_type": "stream",
     "text": [
      "Found 447 files belonging to 5 classes.\n"
     ]
    },
    {
     "name": "stdout",
     "output_type": "stream",
     "text": [
      "Found 25 files belonging to 5 classes.\n",
      "Image_size: 500\n"
     ]
    },
    {
     "name": "stderr",
     "output_type": "stream",
     "text": [
      "2023-07-25 15:49:58.520311: I tensorflow/core/common_runtime/executor.cc:1197] [/device:CPU:0] (DEBUG INFO) Executor start aborting (this does not indicate an error and you can ignore this message): INVALID_ARGUMENT: You must feed a value for placeholder tensor 'Placeholder/_0' with dtype string and shape [447]\n",
      "\t [[{{node Placeholder/_0}}]]\n",
      "2023-07-25 15:49:58.520824: I tensorflow/core/common_runtime/executor.cc:1197] [/device:CPU:0] (DEBUG INFO) Executor start aborting (this does not indicate an error and you can ignore this message): INVALID_ARGUMENT: You must feed a value for placeholder tensor 'Placeholder/_4' with dtype int32 and shape [447]\n",
      "\t [[{{node Placeholder/_4}}]]\n"
     ]
    }
   ],
   "source": [
    "from load_data.load_data import LoadData\n",
    "\n",
    "train_data_dir = \"to_torch/train/\"\n",
    "valid_data_dir = \"to_torch/valid/\"\n",
    "\n",
    "train_data = LoadData(path= train_data_dir,\n",
    "                      num_batches= 1,\n",
    "                      image_size = 500)\n",
    "\n",
    "valid_data = LoadData(path= valid_data_dir,\n",
    "                      num_batches= 1,\n",
    "                      image_size = 500)\n",
    "\n",
    "train_data = train_data.get_data()\n",
    "valid_data = valid_data.get_data()\n",
    "\n",
    "for image_batch, labels_batch in train_data:\n",
    "    print(\"Image_size:\",image_batch.shape[2])\n",
    "    break"
   ]
  },
  {
   "cell_type": "code",
   "execution_count": 43,
   "metadata": {},
   "outputs": [],
   "source": [
    "#definindo a arquitetura da LeNet-5\n",
    "model_lenet5 = tf.keras.Sequential([\n",
    "    tf.keras.layers.Conv2D(6, (3, 3), activation='relu',strides= (2,2), input_shape=(image_batch.shape[2], image_batch.shape[2], 3)),\n",
    "    tf.keras.layers.MaxPooling2D((2, 2)),\n",
    "    \n",
    "    tf.keras.layers.Conv2D(16, (3, 3), activation='relu', strides=(2,2)),\n",
    "    tf.keras.layers.MaxPooling2D((2, 2)),\n",
    "    \n",
    "    tf.keras.layers.Flatten(),\n",
    "    tf.keras.layers.Dense(120, activation='relu'),\n",
    "    tf.keras.layers.Dropout(rate=0.5),\n",
    "    \n",
    "    tf.keras.layers.Dense(84, activation='relu'),\n",
    "    tf.keras.layers.Dropout(rate=0.5),\n",
    "    \n",
    "    #TESTAR FUNÇAO SIGMOID (0)\n",
    "    tf.keras.layers.Dense(5, activation='softmax')\n",
    "])\n",
    "\n",
    "# # Compilando o modelo\n",
    "# model_lenet5.compile(optimizer='adam', \n",
    "#               loss=tf.keras.losses.SparseCategoricalCrossentropy(from_logits=True), \n",
    "#               metrics=['accuracy'])\n",
    "\n",
    "# model_lenet5.summary()"
   ]
  },
  {
   "cell_type": "code",
   "execution_count": 41,
   "metadata": {},
   "outputs": [],
   "source": [
    "from compile_and_fit.compile_and_fit import CompilerAndFit\n",
    "\n",
    "compile_fit = CompilerAndFit(train_Data= train_data,\n",
    "               valid_Data = valid_data,\n",
    "               path = \"lenet5_l2\",\n",
    "               monitor = \"acc\")\n",
    "\n",
    "compileSGD_fit = CompilerAndFit(train_Data= train_data,\n",
    "               valid_Data = valid_data,\n",
    "               optmizer= \"SGD\",\n",
    "               path = \"lenet5_l2\",\n",
    "               monitor = \"acc\")"
   ]
  },
  {
   "cell_type": "code",
   "execution_count": 46,
   "metadata": {},
   "outputs": [
    {
     "name": "stdout",
     "output_type": "stream",
     "text": [
      "Tamanho dos Batchs (1,)\n",
      "Model: \"sequential_3\"\n",
      "_________________________________________________________________\n",
      " Layer (type)                Output Shape              Param #   \n",
      "=================================================================\n",
      " conv2d_6 (Conv2D)           (None, 249, 249, 6)       168       \n",
      "                                                                 \n",
      " max_pooling2d_6 (MaxPooling  (None, 124, 124, 6)      0         \n",
      " 2D)                                                             \n",
      "                                                                 \n",
      " conv2d_7 (Conv2D)           (None, 61, 61, 16)        880       \n",
      "                                                                 \n",
      " max_pooling2d_7 (MaxPooling  (None, 30, 30, 16)       0         \n",
      " 2D)                                                             \n",
      "                                                                 \n",
      " flatten_3 (Flatten)         (None, 14400)             0         \n",
      "                                                                 \n",
      " dense_9 (Dense)             (None, 120)               1728120   \n",
      "                                                                 \n",
      " dropout_6 (Dropout)         (None, 120)               0         \n",
      "                                                                 \n",
      " dense_10 (Dense)            (None, 84)                10164     \n",
      "                                                                 \n",
      " dropout_7 (Dropout)         (None, 84)                0         \n",
      "                                                                 \n",
      " dense_11 (Dense)            (None, 5)                 425       \n",
      "                                                                 \n",
      "=================================================================\n",
      "Total params: 1,739,757\n",
      "Trainable params: 1,739,757\n",
      "Non-trainable params: 0\n",
      "_________________________________________________________________\n",
      "Tamanho dos Batchs (1,)\n",
      "A pasta já existe\n",
      "Epoch 1/5\n"
     ]
    },
    {
     "name": "stderr",
     "output_type": "stream",
     "text": [
      "2023-07-25 16:05:39.367898: I tensorflow/core/grappler/optimizers/custom_graph_optimizer_registry.cc:114] Plugin optimizer for device_type GPU is enabled.\n",
      "2023-07-25 16:05:39.447806: E tensorflow/core/grappler/optimizers/meta_optimizer.cc:954] model_pruner failed: INVALID_ARGUMENT: Graph does not contain terminal node AssignAddVariableOp_10.\n"
     ]
    },
    {
     "name": "stdout",
     "output_type": "stream",
     "text": [
      "447/447 [==============================] - ETA: 0s - loss: 14.5022 - acc: 0.4139 - top5-acc: 0.6174"
     ]
    },
    {
     "name": "stderr",
     "output_type": "stream",
     "text": [
      "2023-07-25 16:06:10.430780: I tensorflow/core/grappler/optimizers/custom_graph_optimizer_registry.cc:114] Plugin optimizer for device_type GPU is enabled.\n"
     ]
    },
    {
     "name": "stdout",
     "output_type": "stream",
     "text": [
      "\n",
      "Epoch: 0, acc:0.4139,  loss:14.5022,  top5-acc:0.6174,  val_acc:0.2000,  val_loss:3.2766,  val_top5-acc:0.4000,  \n",
      "447/447 [==============================] - 33s 70ms/step - loss: 14.5022 - acc: 0.4139 - top5-acc: 0.6174 - val_loss: 3.2766 - val_acc: 0.2000 - val_top5-acc: 0.4000\n",
      "Epoch 2/5\n",
      "447/447 [==============================] - 30s 68ms/step - loss: 2.8148 - acc: 0.3177 - top5-acc: 0.5570 - val_loss: 1.7132 - val_acc: 0.2800 - val_top5-acc: 0.6000\n",
      "Epoch 3/5\n",
      "447/447 [==============================] - 30s 67ms/step - loss: 4.6961 - acc: 0.3512 - top5-acc: 0.6107 - val_loss: 2.0496 - val_acc: 0.1200 - val_top5-acc: 0.4000\n",
      "Epoch 4/5\n",
      "447/447 [==============================] - 31s 68ms/step - loss: 7.7264 - acc: 0.4251 - top5-acc: 0.6510 - val_loss: 3.1883 - val_acc: 0.2400 - val_top5-acc: 0.4400\n",
      "Epoch 5/5\n",
      "447/447 [==============================] - 30s 67ms/step - loss: 3.6961 - acc: 0.5615 - top5-acc: 0.7651 - val_loss: 4.4475 - val_acc: 0.1600 - val_top5-acc: 0.3200\n"
     ]
    }
   ],
   "source": [
    "history = {}\n",
    "history = compile_fit.compile_and_fit(model=model_lenet5,\n",
    "                               max_epochs= 5)"
   ]
  },
  {
   "cell_type": "code",
   "execution_count": 50,
   "metadata": {},
   "outputs": [
    {
     "ename": "TypeError",
     "evalue": "'History' object is not subscriptable",
     "output_type": "error",
     "traceback": [
      "\u001b[0;31m---------------------------------------------------------------------------\u001b[0m",
      "\u001b[0;31mTypeError\u001b[0m                                 Traceback (most recent call last)",
      "Cell \u001b[0;32mIn[50], line 5\u001b[0m\n\u001b[1;32m      2\u001b[0m history_dict \u001b[39m=\u001b[39m {\u001b[39m'\u001b[39m\u001b[39mhistory\u001b[39m\u001b[39m'\u001b[39m: history}\n\u001b[1;32m      3\u001b[0m plotter\u001b[39m.\u001b[39mplot(history_dict)\n\u001b[0;32m----> 5\u001b[0m val_acc \u001b[39m=\u001b[39m history[\u001b[39m0\u001b[39;49m]\u001b[39m.\u001b[39mhistory[\u001b[39m'\u001b[39m\u001b[39mval_acc\u001b[39m\u001b[39m'\u001b[39m]\n\u001b[1;32m      6\u001b[0m max_val_acc \u001b[39m=\u001b[39m \u001b[39mmax\u001b[39m(val_acc)\n\u001b[1;32m      7\u001b[0m \u001b[39mprint\u001b[39m(\u001b[39m\"\u001b[39m\u001b[39mMaior valor de val_acc observado:\u001b[39m\u001b[39m\"\u001b[39m, max_val_acc)\n",
      "\u001b[0;31mTypeError\u001b[0m: 'History' object is not subscriptable"
     ]
    },
    {
     "data": {
      "image/png": "[encoded data removed]",
      "text/plain": [
       "<Figure size 640x480 with 1 Axes>"
      ]
     },
     "metadata": {},
     "output_type": "display_data"
    }
   ],
   "source": [
    "plotter = tfdocs.plots.HistoryPlotter(metric = 'acc')\n",
    "history_dict = {'history': history}\n",
    "plotter.plot(history_dict)\n",
    "\n",
    "#linha de accuracy (corrigir - deu erro)\n",
    "val_acc = history[\"lenet5\"].history['val_acc']\n",
    "max_val_acc = max(val_acc)\n",
    "print(\"Maior valor de val_acc observado:\", max_val_acc)\n",
    "plt.axhline(max_val_acc, color='red', linestyle='dashed', label='Max val_acc')\n",
    "plt.legend()\n",
    "\n",
    "# Mostrar o gráfico\n",
    "plt.show()"
   ]
  },
  {
   "cell_type": "markdown",
   "metadata": {},
   "source": [
    "### LeNet5 - regularizers L2"
   ]
  },
  {
   "cell_type": "code",
   "execution_count": null,
   "metadata": {},
   "outputs": [],
   "source": [
    "model_lenet5_l2 = tf.keras.Sequential([\n",
    "    tf.keras.layers.Conv2D(6, (3, 3), activation='relu',strides= (2,2), input_shape=(image_size, image_size, 3)),\n",
    "    tf.keras.layers.MaxPooling2D((2, 2)),\n",
    "    \n",
    "    tf.keras.layers.Conv2D(16, (3, 3), activation='relu', strides=(2,2)),\n",
    "    tf.keras.layers.MaxPooling2D((2, 2)),\n",
    "    \n",
    "    tf.keras.layers.Flatten(),\n",
    "    tf.keras.layers.Dense(120, activation='relu',\n",
    "                          kernel_regularizer= regularizers.l2(0.01)),\n",
    "    tf.keras.layers.Dropout(rate=0.25),\n",
    "    \n",
    "    tf.keras.layers.Dense(84, activation='relu',\n",
    "                          kernel_regularizer= regularizers.l2(0.01)),\n",
    "    tf.keras.layers.Dropout(rate=0.25),\n",
    "    \n",
    "    #TESTAR FUNÇAO SIGMOID (0)\n",
    "    tf.keras.layers.Dense(5, activation='softmax')\n",
    "])"
   ]
  },
  {
   "cell_type": "code",
   "execution_count": null,
   "metadata": {},
   "outputs": [],
   "source": [
    "history2 = {}\n",
    "history2[\"lenet5_l2\"] = compile_and_fit(model_lenet5_l2,\n",
    "                                           train_Data= train_data,\n",
    "                                           validation_Data= valid_data,\n",
    "                                           max_epochs= 50,\n",
    "                                           callback_path= \"lenet5_l2\")"
   ]
  },
  {
   "cell_type": "code",
   "execution_count": null,
   "metadata": {},
   "outputs": [],
   "source": [
    "plotter = tfdocs.plots.HistoryPlotter(metric = 'acc')\n",
    "plotter.plot(history2)\n",
    "\n",
    "val_acc = history2[\"lenet5_l2\"].history['val_acc']\n",
    "max_val_acc = max(val_acc)\n",
    "\n",
    "print(\"Maior valor de val_acc observado:\", max_val_acc)\n",
    "\n",
    "plt.axhline(max_val_acc, color='red', linestyle='dashed', label='Max val_acc')\n",
    "plt.legend()\n",
    "\n",
    "# Mostrar o gráfico\n",
    "plt.show()"
   ]
  },
  {
   "cell_type": "markdown",
   "metadata": {},
   "source": [
    "### LeNet5 - compiler SGD "
   ]
  },
  {
   "cell_type": "code",
   "execution_count": null,
   "metadata": {},
   "outputs": [],
   "source": [
    "lr_schedule = tf.keras.optimizers.schedules.InverseTimeDecay(\n",
    "    0.001,\n",
    "    decay_steps= steps_per_epoch*100,\n",
    "    decay_rate=1,\n",
    "    staircase=False\n",
    ")\n",
    "\n",
    "def get_log_dir(path):\n",
    "    if not os.path.exists(path):\n",
    "        os.makedirs(path)\n",
    "        print(\"Pasta criada com sucesso\")\n",
    "    else:\n",
    "        print(\"A pasta já existe\")\n",
    "    return path\n",
    "\n",
    "\n",
    "def get_callbacks(path):\n",
    "    return [\n",
    "        tfdocs.modeling.EpochDots(),\n",
    "        tf.keras.callbacks.EarlyStopping(monitor='acc', patience=20, mode=\"max\"),\n",
    "        tf.keras.callbacks.TensorBoard(log_dir= get_log_dir(path)),\n",
    "    ]\n",
    "\n",
    "def get_optimizer():\n",
    "    return tf.keras.optimizers.SGD(lr_schedule)\n",
    "\n",
    "def compile_and_fit(model, train_Data, validation_Data, max_epochs, callback_path,optimizer= None):\n",
    "    if optimizer is None:\n",
    "        optimizer = get_optimizer()\n",
    "    model.compile(optimizer= optimizer,\n",
    "                         loss=tf.keras.losses.SparseCategoricalCrossentropy(from_logits=True),\n",
    "                         metrics= [\n",
    "                             keras.metrics.SparseCategoricalAccuracy(name=\"acc\"),\n",
    "                             keras.metrics.SparseTopKCategoricalAccuracy(2, name=\"top5-acc\")]\n",
    "                         )\n",
    "    model.summary()\n",
    "    \n",
    "    history = model.fit(\n",
    "        train_Data,\n",
    "        steps_per_epoch= steps_per_epoch,\n",
    "        validation_data= validation_Data,\n",
    "        epochs= max_epochs,\n",
    "        callbacks= get_callbacks(callback_path)\n",
    "    )\n",
    "    return history\n",
    "\n",
    "model_lenet5_l2_sgd = tf.keras.Sequential([\n",
    "    tf.keras.layers.Conv2D(6, (3, 3), activation='relu',strides= (2,2), input_shape=(image_size, image_size, 3)),\n",
    "    tf.keras.layers.MaxPooling2D((2, 2)),\n",
    "    \n",
    "    tf.keras.layers.Conv2D(16, (3, 3), activation='relu', strides=(2,2)),\n",
    "    tf.keras.layers.MaxPooling2D((2, 2)),\n",
    "    \n",
    "    tf.keras.layers.Flatten(),\n",
    "    tf.keras.layers.Dense(120, activation='relu',\n",
    "                          kernel_regularizer= regularizers.l2(0.01)),\n",
    "    tf.keras.layers.Dropout(rate=0.5),\n",
    "    \n",
    "    tf.keras.layers.Dense(84, activation='relu',\n",
    "                          kernel_regularizer= regularizers.l2(0.01)),\n",
    "    tf.keras.layers.Dropout(rate=0.5),\n",
    "    \n",
    "    #TESTAR FUNÇAO SIGMOID (0)\n",
    "    tf.keras.layers.Dense(5, activation='softmax')\n",
    "])"
   ]
  },
  {
   "cell_type": "code",
   "execution_count": null,
   "metadata": {},
   "outputs": [],
   "source": [
    "history3 = {}\n",
    "history3[\"lenet5_sgd\"] = compile_and_fit(model_lenet5_l2_sgd,\n",
    "                                           train_Data= train_data,\n",
    "                                           validation_Data= valid_data,\n",
    "                                           max_epochs= 100,\n",
    "                                           callback_path= \"logs_lenet5\")"
   ]
  },
  {
   "cell_type": "code",
   "execution_count": null,
   "metadata": {},
   "outputs": [],
   "source": [
    "plotter = tfdocs.plots.HistoryPlotter(metric = 'acc')\n",
    "plotter.plot(history3)\n",
    "\n",
    "val_acc = history3[\"lenet5_sgd\"].history['val_acc']\n",
    "max_val_acc = max(val_acc)\n",
    "\n",
    "print(\"Maior valor de val_acc observado:\", max_val_acc)\n",
    "\n",
    "plt.axhline(max_val_acc, color='red', linestyle='dashed', label='Max val_acc')\n",
    "plt.legend()\n",
    "\n",
    "# Mostrar o gráfico\n",
    "plt.show()"
   ]
  },
  {
   "cell_type": "code",
   "execution_count": null,
   "metadata": {},
   "outputs": [],
   "source": [
    "predict = model.predict_generator(test_generator)\n",
    "\n",
    "get_best_hp(tuner_bayesian_optimization)"
   ]
  },
  {
   "cell_type": "code",
   "execution_count": null,
   "metadata": {},
   "outputs": [],
   "source": [
    "import matplotlib.pyplot as plt\n",
    "\n",
    "output_image = model_lenet5_l2.predict(test_data)\n",
    "plt.imshow(output_image)\n",
    "plt.show"
   ]
  },
  {
   "cell_type": "markdown",
   "metadata": {},
   "source": [
    "### LeNet5 - Dropouts 0.25"
   ]
  },
  {
   "cell_type": "code",
   "execution_count": null,
   "metadata": {},
   "outputs": [],
   "source": [
    "lr_schedule = tf.keras.optimizers.schedules.InverseTimeDecay(\n",
    "    0.001,\n",
    "    decay_steps= steps_per_epoch*100,\n",
    "    decay_rate=1,\n",
    "    staircase=False\n",
    ")\n",
    "\n",
    "def get_log_dir(path):\n",
    "    if not os.path.exists(path):\n",
    "        os.makedirs(path)\n",
    "        print(\"Pasta criada com sucesso\")\n",
    "    else:\n",
    "        print(\"A pasta já existe\")\n",
    "    return path\n",
    "\n",
    "\n",
    "def get_callbacks(path):\n",
    "    return [\n",
    "        tfdocs.modeling.EpochDots(),\n",
    "        tf.keras.callbacks.EarlyStopping(monitor='acc', patience=20, mode=\"max\"),\n",
    "        tf.keras.callbacks.TensorBoard(log_dir= get_log_dir(path)),\n",
    "    ]\n",
    "\n",
    "def get_optimizer():\n",
    "    return tf.keras.optimizers.Adam(lr_schedule)\n",
    "\n",
    "def compile_and_fit(model, train_Data, validation_Data, max_epochs, callback_path,optimizer= None):\n",
    "    if optimizer is None:\n",
    "        optimizer = get_optimizer()\n",
    "    model.compile(optimizer= optimizer,\n",
    "                         loss=tf.keras.losses.SparseCategoricalCrossentropy(from_logits=True),\n",
    "                         metrics= [\n",
    "                             keras.metrics.SparseCategoricalAccuracy(name=\"acc\"),\n",
    "                             keras.metrics.SparseTopKCategoricalAccuracy(2, name=\"top5-acc\")]\n",
    "                         )\n",
    "    model.summary()\n",
    "    \n",
    "    history = model.fit(\n",
    "        train_Data,\n",
    "        steps_per_epoch= steps_per_epoch,\n",
    "        validation_data= validation_Data,\n",
    "        epochs= max_epochs,\n",
    "        callbacks= get_callbacks(callback_path)\n",
    "    )\n",
    "    return history"
   ]
  },
  {
   "cell_type": "code",
   "execution_count": null,
   "metadata": {},
   "outputs": [],
   "source": [
    "\n",
    "# Definindo a arquitetura da LeNet-5\n",
    "model_lenet5_drop025 = tf.keras.Sequential([\n",
    "    tf.keras.layers.Conv2D(6, (3, 3), activation='relu',strides= (2,2), input_shape=(image_size, image_size, 3)),\n",
    "    tf.keras.layers.MaxPooling2D((2, 2)),\n",
    "    \n",
    "    tf.keras.layers.Conv2D(16, (3, 3), activation='relu', strides=(2,2)),\n",
    "    tf.keras.layers.MaxPooling2D((2, 2)),\n",
    "    \n",
    "    tf.keras.layers.Flatten(),\n",
    "    tf.keras.layers.Dense(120, activation='relu'),\n",
    "    tf.keras.layers.Dropout(rate=0.25),\n",
    "    \n",
    "    tf.keras.layers.Dense(84, activation='relu'),\n",
    "    tf.keras.layers.Dropout(rate=0.25),\n",
    "    \n",
    "    #TESTAR FUNÇAO SIGMOID (0)\n",
    "    tf.keras.layers.Dense(5, activation='softmax')\n",
    "])"
   ]
  },
  {
   "cell_type": "code",
   "execution_count": null,
   "metadata": {},
   "outputs": [],
   "source": [
    "history4 = {}\n",
    "history4[\"lenet5_drop025\"] = compile_and_fit(model_lenet5_drop025,\n",
    "                                           train_Data= train_data,\n",
    "                                           validation_Data= valid_data,\n",
    "                                           max_epochs= 100,\n",
    "                                           callback_path= \"logs_lenet5\")"
   ]
  },
  {
   "cell_type": "code",
   "execution_count": null,
   "metadata": {},
   "outputs": [],
   "source": [
    "plotter = tfdocs.plots.HistoryPlotter(metric = 'acc')\n",
    "plotter.plot(history4)\n",
    "\n",
    "val_acc = history4[\"lenet5_drop025\"].history['val_acc']\n",
    "max_val_acc = max(val_acc)\n",
    "\n",
    "print(\"Maior valor de val_acc observado:\", max_val_acc)\n",
    "\n",
    "plt.axhline(max_val_acc, color='red', linestyle='dashed', label='Max val_acc')\n",
    "plt.legend()\n",
    "\n",
    "# Mostrar o gráfico\n",
    "plt.show()"
   ]
  },
  {
   "cell_type": "markdown",
   "metadata": {},
   "source": [
    "### LeNet5 - Dropout 0.5 + L2"
   ]
  },
  {
   "cell_type": "code",
   "execution_count": null,
   "metadata": {},
   "outputs": [],
   "source": [
    "model_lenet5_dropout_l2 = tf.keras.Sequential([\n",
    "    tf.keras.layers.Conv2D(6, (3, 3), activation='relu',strides= (2,2), input_shape=(image_size, image_size, 3)),\n",
    "    tf.keras.layers.MaxPooling2D((2, 2)),\n",
    "    \n",
    "    tf.keras.layers.Conv2D(16, (3, 3), activation='relu', strides=(2,2)),\n",
    "    tf.keras.layers.MaxPooling2D((2, 2)),\n",
    "    \n",
    "    tf.keras.layers.Flatten(),\n",
    "    tf.keras.layers.Dense(120, activation='relu',\n",
    "                          kernel_regularizer= regularizers.l2(0.01)),\n",
    "    tf.keras.layers.Dropout(rate=0.5),\n",
    "    \n",
    "    tf.keras.layers.Dense(84, activation='relu',\n",
    "                          kernel_regularizer= regularizers.l2(0.01)),\n",
    "    tf.keras.layers.Dropout(rate=0.5),\n",
    "    \n",
    "    #TESTAR FUNÇAO SIGMOID (0)\n",
    "    tf.keras.layers.Dense(5, activation='softmax')])"
   ]
  },
  {
   "cell_type": "code",
   "execution_count": null,
   "metadata": {},
   "outputs": [],
   "source": [
    "history5 = {}\n",
    "history5[\"lenet5_drop_l2\"] = compile_and_fit(model_lenet5_dropout_l2,\n",
    "                                           train_Data= train_data,\n",
    "                                           validation_Data= valid_data,\n",
    "                                           max_epochs= 100,\n",
    "                                           callback_path= \"logs_lenet5_dropout_l2\")"
   ]
  },
  {
   "cell_type": "code",
   "execution_count": null,
   "metadata": {},
   "outputs": [],
   "source": [
    "plotter = tfdocs.plots.HistoryPlotter(metric = 'acc')\n",
    "plotter.plot(history5)\n",
    "\n",
    "val_acc = history5[\"lenet5_drop_l2\"].history['val_acc']\n",
    "max_val_acc = max(val_acc)\n",
    "\n",
    "print(\"Maior valor de val_acc observado:\", max_val_acc)\n",
    "\n",
    "plt.axhline(max_val_acc, color='red', linestyle='dashed', label='Max val_acc')\n",
    "plt.legend()\n",
    "\n",
    "# Mostrar o gráfico\n",
    "plt.show()"
   ]
  },
  {
   "cell_type": "markdown",
   "metadata": {},
   "source": [
    "### LeNet5 - (-MaxPooling)"
   ]
  },
  {
   "cell_type": "code",
   "execution_count": null,
   "metadata": {},
   "outputs": [],
   "source": [
    "model_lenet5_maxpooling = tf.keras.Sequential([\n",
    "    layers.Rescaling(1./255, input_shape=(image_size, image_size))\n",
    "    tf.keras.layers.Conv2D(6, (3, 3), activation='relu',strides= (2,2), input_shape=(image_size, image_size, 3)),\n",
    "    tf.keras.layers.Conv2D(16, (3, 3), activation='relu', strides=(2,2)),\n",
    "    \n",
    "    tf.keras.layers.Flatten(),\n",
    "    tf.keras.layers.Dense(120, activation='relu'),\n",
    "    tf.keras.layers.Dropout(rate=0.5),\n",
    "    \n",
    "    tf.keras.layers.Dense(84, activation='relu'),\n",
    "    tf.keras.layers.Dropout(rate=0.5),\n",
    "    \n",
    "    #TESTAR FUNÇAO SIGMOID (0)\n",
    "    tf.keras.layers.Dense(5, activation='softmax')])"
   ]
  },
  {
   "cell_type": "code",
   "execution_count": null,
   "metadata": {},
   "outputs": [],
   "source": [
    "history6 = {}\n",
    "history6[\"lenet5_drop_maxp\"] = compile_and_fit(model_lenet5_maxpooling,\n",
    "                                           train_Data= train_data,\n",
    "                                           validation_Data= valid_data,\n",
    "                                           max_epochs= 100,\n",
    "                                           callback_path= \"logs_lenet5_dropout_l2\")"
   ]
  },
  {
   "cell_type": "code",
   "execution_count": null,
   "metadata": {},
   "outputs": [],
   "source": [
    "plotter = tfdocs.plots.HistoryPlotter(metric = 'acc')\n",
    "plotter.plot(history6)\n",
    "\n",
    "val_acc = history6[\"lenet5_drop_maxp\"].history['val_acc']\n",
    "max_val_acc = max(val_acc)\n",
    "\n",
    "print(\"Maior valor de val_acc observado:\", max_val_acc)\n",
    "\n",
    "plt.axhline(max_val_acc, color='red', linestyle='dashed', label='Max val_acc')\n",
    "plt.legend()\n",
    "\n",
    "# Mostrar o gráfico\n",
    "plt.show()"
   ]
  },
  {
   "attachments": {},
   "cell_type": "markdown",
   "metadata": {},
   "source": [
    "## TensorBoard"
   ]
  },
  {
   "cell_type": "code",
   "execution_count": null,
   "metadata": {},
   "outputs": [],
   "source": [
    "import tensorboard\n",
    "%tensorboard --logdir ./logs\n"
   ]
  }
 ],
 "metadata": {
  "kernelspec": {
   "display_name": "venv",
   "language": "python",
   "name": "python3"
  },
  "language_info": {
   "codemirror_mode": {
    "name": "ipython",
    "version": 3
   },
   "file_extension": ".py",
   "mimetype": "text/x-python",
   "name": "python",
   "nbconvert_exporter": "python",
   "pygments_lexer": "ipython3",
   "version": "3.10.9"
  },
  "orig_nbformat": 4
 },
 "nbformat": 4,
 "nbformat_minor": 2
}
