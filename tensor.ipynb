{
 "cells": [
  {
   "cell_type": "code",
   "execution_count": null,
   "metadata": {},
   "outputs": [],
   "source": [
    "import numpy as np\n",
    "import tensorflow as tf\n",
    "from tensorflow import keras\n",
    "from tensorflow.keras import layers, models, datasets, regularizers\n",
    "import tensorflow_addons as tfa\n",
    "from sklearn.model_selection import train_test_split\n",
    "import matplotlib.pyplot as plt\n",
    "import os\n",
    "import keras_tuner\n",
    "import tensorflow_docs as tfdocs\n",
    "import tensorflow_docs.modeling\n",
    "import tensorflow_docs.plots\n",
    "import tensorboard\n",
    "import tempfile\n",
    "import pathlib"
   ]
  },
  {
   "cell_type": "markdown",
   "metadata": {},
   "source": [
    "## Configurações para melhorar a Pipeline de entrada"
   ]
  },
  {
   "cell_type": "code",
   "execution_count": null,
   "metadata": {},
   "outputs": [],
   "source": [
    "devices = tf.config.list_physical_devices()\n",
    "print(devices)\n",
    "a=tf.random.normal([100,100])\n",
    "b=tf.random.normal([100,100])\n",
    "c = a*b"
   ]
  },
  {
   "cell_type": "code",
   "execution_count": null,
   "metadata": {},
   "outputs": [],
   "source": [
    "import os\n",
    "os.environ['TF_CPP_MIN_LOG_LEVEL'] = '2'\n"
   ]
  },
  {
   "cell_type": "code",
   "execution_count": null,
   "metadata": {},
   "outputs": [],
   "source": [
    "import tensorflow as tf\n",
    "tf.debugging.set_log_device_placement(False)\n",
    "# Verifique as GPUs disponíveis\n",
    "print(\"GPUs disponíveis:\", tf.config.list_physical_devices('GPU'))\n",
    "\n"
   ]
  },
  {
   "cell_type": "code",
   "execution_count": null,
   "metadata": {},
   "outputs": [],
   "source": [
    "valor_perda, valor_precisao = model_lenet5.evaluate(test_generator)\n",
    "print('\\nPrecisão na classificação das amostras de teste:', valor_precisao)"
   ]
  },
  {
   "cell_type": "markdown",
   "metadata": {},
   "source": [
    "## LeNet5"
   ]
  },
  {
   "cell_type": "code",
   "execution_count": null,
   "metadata": {},
   "outputs": [],
   "source": [
    "!pip install git+https://github.com/tensorflow/docs"
   ]
  },
  {
   "cell_type": "code",
   "execution_count": null,
   "metadata": {},
   "outputs": [],
   "source": [
    "from tensorflow.keras.preprocessing.image import ImageDataGenerator\n",
    "from tensorflow.keras.utils import image_dataset_from_directory\n",
    "\n",
    "num_batches = 10\n",
    "classes = [\"classe1\",\"classe2\",\"classe3\",\"classe4\",\"classe5\"]\n",
    "image_size = 400\n",
    "\n",
    "train_data_dir = \"to_torch/train/\"\n",
    "test_data_dir = \"to_torch/test/\"\n",
    "valid_data_dir = \"to_torch/valid/\"\n",
    "\n",
    "\n",
    "train_data = image_dataset_from_directory(train_data_dir, batch_size=num_batches, class_names=classes, image_size=(image_size, image_size))\n",
    "valid_data = image_dataset_from_directory(valid_data_dir, batch_size=num_batches, class_names= classes, image_size= (image_size, image_size))\n",
    "test_data = image_dataset_from_directory(test_data_dir, batch_size= num_batches, image_size= (image_size, image_size))"
   ]
  },
  {
   "cell_type": "code",
   "execution_count": null,
   "metadata": {},
   "outputs": [],
   "source": [
    "n_train = (len(train_data) * num_batches)\n",
    "steps_per_epoch = n_train//num_batches"
   ]
  },
  {
   "cell_type": "code",
   "execution_count": null,
   "metadata": {},
   "outputs": [],
   "source": [
    "# Definindo a arquitetura da LeNet-5\n",
    "model_lenet5 = tf.keras.Sequential([\n",
    "    tf.keras.layers.Conv2D(6, (3, 3), activation='relu',strides= (2,2), input_shape=(image_size, image_size, 3)),\n",
    "    tf.keras.layers.MaxPooling2D((2, 2)),\n",
    "    \n",
    "    tf.keras.layers.Conv2D(16, (3, 3), activation='relu', strides=(2,2)),\n",
    "    tf.keras.layers.MaxPooling2D((2, 2)),\n",
    "    \n",
    "    tf.keras.layers.Flatten(),\n",
    "    tf.keras.layers.Dense(120, activation='relu'),\n",
    "    tf.keras.layers.Dropout(rate=0.5),\n",
    "    \n",
    "    tf.keras.layers.Dense(84, activation='relu'),\n",
    "    tf.keras.layers.Dropout(rate=0.5),\n",
    "    \n",
    "    #TESTAR FUNÇAO SIGMOID (0)\n",
    "    tf.keras.layers.Dense(5, activation='softmax')\n",
    "])\n",
    "\n",
    "# # Compilando o modelo\n",
    "# model_lenet5.compile(optimizer='adam', \n",
    "#               loss=tf.keras.losses.SparseCategoricalCrossentropy(from_logits=True), \n",
    "#               metrics=['accuracy'])\n",
    "\n",
    "# model_lenet5.summary()"
   ]
  },
  {
   "cell_type": "code",
   "execution_count": null,
   "metadata": {},
   "outputs": [],
   "source": [
    "class_names = train_data.class_names\n",
    "print(class_names)"
   ]
  },
  {
   "cell_type": "code",
   "execution_count": null,
   "metadata": {},
   "outputs": [],
   "source": [
    "for image_batch, labels_batch in train_data:\n",
    "    print(image_batch.shape)\n",
    "    print(labels_batch.shape)\n",
    "    break"
   ]
  },
  {
   "cell_type": "code",
   "execution_count": null,
   "metadata": {},
   "outputs": [],
   "source": [
    "import numpy as np\n",
    "\n",
    "normalization_layer = tf.keras.layers.Rescaling(1./255)\n",
    "\n",
    "normalized_data = train_data.map(lambda x, y,: (normalization_layer(x), y))\n",
    "image_batch, labels_batch = next(iter(normalized_data))\n",
    "first_image = image_batch[0]\n",
    "\n",
    "print(np.min(first_image), np.max(first_image))"
   ]
  },
  {
   "cell_type": "code",
   "execution_count": null,
   "metadata": {},
   "outputs": [],
   "source": [
    "AUTOTUNE = tf.data.AUTOTUNE\n",
    "\n",
    "train_data = train_data.cache().prefetch(buffer_size=AUTOTUNE)\n",
    "valid_data = valid_data.cache().prefetch(buffer_size=AUTOTUNE)"
   ]
  },
  {
   "cell_type": "code",
   "execution_count": null,
   "metadata": {},
   "outputs": [],
   "source": [
    "lr_schedule = tf.keras.optimizers.schedules.InverseTimeDecay(\n",
    "    0.001,\n",
    "    decay_steps= steps_per_epoch*100,\n",
    "    decay_rate=1,\n",
    "    staircase=False\n",
    ")\n",
    "\n",
    "def get_log_dir(path):\n",
    "    if not os.path.exists(path):\n",
    "        os.makedirs(path)\n",
    "        print(\"Pasta criada com sucesso\")\n",
    "    else:\n",
    "        print(\"A pasta já existe\")\n",
    "    return path\n",
    "\n",
    "\n",
    "def get_callbacks(path):\n",
    "    return [\n",
    "        tfdocs.modeling.EpochDots(),\n",
    "        tf.keras.callbacks.EarlyStopping(monitor='acc', patience=20, mode=\"max\"),\n",
    "        tf.keras.callbacks.TensorBoard(log_dir= get_log_dir(path)),\n",
    "    ]\n",
    "\n",
    "def get_optimizer():\n",
    "    return tf.keras.optimizers.Adam(lr_schedule)\n",
    "\n",
    "def compile_and_fit(model, train_Data, validation_Data, max_epochs, callback_path,optimizer= None):\n",
    "    if optimizer is None:\n",
    "        optimizer = get_optimizer()\n",
    "    model.compile(optimizer= optimizer,\n",
    "                         loss=tf.keras.losses.SparseCategoricalCrossentropy(from_logits=True),\n",
    "                         metrics= [\n",
    "                             keras.metrics.SparseCategoricalAccuracy(name=\"acc\"),\n",
    "                             keras.metrics.SparseTopKCategoricalAccuracy(2, name=\"top5-acc\")]\n",
    "                         )\n",
    "    model.summary()\n",
    "    \n",
    "    history = model.fit(\n",
    "        train_Data,\n",
    "        steps_per_epoch= steps_per_epoch,\n",
    "        validation_data= validation_Data,\n",
    "        epochs= max_epochs,\n",
    "        callbacks= get_callbacks(callback_path)\n",
    "    )\n",
    "    return history\n"
   ]
  },
  {
   "cell_type": "code",
   "execution_count": null,
   "metadata": {},
   "outputs": [],
   "source": [
    "history = {}\n",
    "history[\"lenet5\"] = compile_and_fit(model_lenet5,\n",
    "                                           train_Data= train_data,\n",
    "                                           validation_Data= valid_data,\n",
    "                                           max_epochs= 100,\n",
    "                                           callback_path= \"logs_lenet5\")"
   ]
  },
  {
   "cell_type": "code",
   "execution_count": null,
   "metadata": {},
   "outputs": [],
   "source": [
    "plotter = tfdocs.plots.HistoryPlotter(metric = 'acc')\n",
    "plotter.plot(history)\n",
    "\n",
    "val_acc = history[\"lenet5\"].history['val_acc']\n",
    "max_val_acc = max(val_acc)\n",
    "\n",
    "print(\"Maior valor de val_acc observado:\", max_val_acc)\n",
    "\n",
    "plt.axhline(max_val_acc, color='red', linestyle='dashed', label='Max val_acc')\n",
    "plt.legend()\n",
    "\n",
    "# Mostrar o gráfico\n",
    "plt.show()"
   ]
  },
  {
   "cell_type": "markdown",
   "metadata": {},
   "source": [
    "### LeNet5 - regularizers L2"
   ]
  },
  {
   "cell_type": "code",
   "execution_count": null,
   "metadata": {},
   "outputs": [],
   "source": [
    "model_lenet5_l2 = tf.keras.Sequential([\n",
    "    tf.keras.layers.Conv2D(6, (3, 3), activation='relu',strides= (2,2), input_shape=(image_size, image_size, 3)),\n",
    "    tf.keras.layers.MaxPooling2D((2, 2)),\n",
    "    \n",
    "    tf.keras.layers.Conv2D(16, (3, 3), activation='relu', strides=(2,2)),\n",
    "    tf.keras.layers.MaxPooling2D((2, 2)),\n",
    "    \n",
    "    tf.keras.layers.Flatten(),\n",
    "    tf.keras.layers.Dense(120, activation='relu',\n",
    "                          kernel_regularizer= regularizers.l2(0.01)),\n",
    "    tf.keras.layers.Dropout(rate=0.25),\n",
    "    \n",
    "    tf.keras.layers.Dense(84, activation='relu',\n",
    "                          kernel_regularizer= regularizers.l2(0.01)),\n",
    "    tf.keras.layers.Dropout(rate=0.25),\n",
    "    \n",
    "    #TESTAR FUNÇAO SIGMOID (0)\n",
    "    tf.keras.layers.Dense(5, activation='softmax')\n",
    "])"
   ]
  },
  {
   "cell_type": "code",
   "execution_count": null,
   "metadata": {},
   "outputs": [],
   "source": [
    "history2 = {}\n",
    "history2[\"lenet5_l2\"] = compile_and_fit(model_lenet5_l2,\n",
    "                                           train_Data= train_data,\n",
    "                                           validation_Data= valid_data,\n",
    "                                           max_epochs= 50,\n",
    "                                           callback_path= \"lenet5_l2\")"
   ]
  },
  {
   "cell_type": "code",
   "execution_count": null,
   "metadata": {},
   "outputs": [],
   "source": [
    "plotter = tfdocs.plots.HistoryPlotter(metric = 'acc')\n",
    "plotter.plot(history2)\n",
    "\n",
    "val_acc = history2[\"lenet5_l2\"].history['val_acc']\n",
    "max_val_acc = max(val_acc)\n",
    "\n",
    "print(\"Maior valor de val_acc observado:\", max_val_acc)\n",
    "\n",
    "plt.axhline(max_val_acc, color='red', linestyle='dashed', label='Max val_acc')\n",
    "plt.legend()\n",
    "\n",
    "# Mostrar o gráfico\n",
    "plt.show()"
   ]
  },
  {
   "cell_type": "markdown",
   "metadata": {},
   "source": [
    "### LeNet5 - compiler SGD "
   ]
  },
  {
   "cell_type": "code",
   "execution_count": null,
   "metadata": {},
   "outputs": [],
   "source": [
    "lr_schedule = tf.keras.optimizers.schedules.InverseTimeDecay(\n",
    "    0.001,\n",
    "    decay_steps= steps_per_epoch*100,\n",
    "    decay_rate=1,\n",
    "    staircase=False\n",
    ")\n",
    "\n",
    "def get_log_dir(path):\n",
    "    if not os.path.exists(path):\n",
    "        os.makedirs(path)\n",
    "        print(\"Pasta criada com sucesso\")\n",
    "    else:\n",
    "        print(\"A pasta já existe\")\n",
    "    return path\n",
    "\n",
    "\n",
    "def get_callbacks(path):\n",
    "    return [\n",
    "        tfdocs.modeling.EpochDots(),\n",
    "        tf.keras.callbacks.EarlyStopping(monitor='acc', patience=20, mode=\"max\"),\n",
    "        tf.keras.callbacks.TensorBoard(log_dir= get_log_dir(path)),\n",
    "    ]\n",
    "\n",
    "def get_optimizer():\n",
    "    return tf.keras.optimizers.SGD(lr_schedule)\n",
    "\n",
    "def compile_and_fit(model, train_Data, validation_Data, max_epochs, callback_path,optimizer= None):\n",
    "    if optimizer is None:\n",
    "        optimizer = get_optimizer()\n",
    "    model.compile(optimizer= optimizer,\n",
    "                         loss=tf.keras.losses.SparseCategoricalCrossentropy(from_logits=True),\n",
    "                         metrics= [\n",
    "                             keras.metrics.SparseCategoricalAccuracy(name=\"acc\"),\n",
    "                             keras.metrics.SparseTopKCategoricalAccuracy(2, name=\"top5-acc\")]\n",
    "                         )\n",
    "    model.summary()\n",
    "    \n",
    "    history = model.fit(\n",
    "        train_Data,\n",
    "        steps_per_epoch= steps_per_epoch,\n",
    "        validation_data= validation_Data,\n",
    "        epochs= max_epochs,\n",
    "        callbacks= get_callbacks(callback_path)\n",
    "    )\n",
    "    return history\n",
    "\n",
    "model_lenet5_l2_sgd = tf.keras.Sequential([\n",
    "    tf.keras.layers.Conv2D(6, (3, 3), activation='relu',strides= (2,2), input_shape=(image_size, image_size, 3)),\n",
    "    tf.keras.layers.MaxPooling2D((2, 2)),\n",
    "    \n",
    "    tf.keras.layers.Conv2D(16, (3, 3), activation='relu', strides=(2,2)),\n",
    "    tf.keras.layers.MaxPooling2D((2, 2)),\n",
    "    \n",
    "    tf.keras.layers.Flatten(),\n",
    "    tf.keras.layers.Dense(120, activation='relu',\n",
    "                          kernel_regularizer= regularizers.l2(0.01)),\n",
    "    tf.keras.layers.Dropout(rate=0.5),\n",
    "    \n",
    "    tf.keras.layers.Dense(84, activation='relu',\n",
    "                          kernel_regularizer= regularizers.l2(0.01)),\n",
    "    tf.keras.layers.Dropout(rate=0.5),\n",
    "    \n",
    "    #TESTAR FUNÇAO SIGMOID (0)\n",
    "    tf.keras.layers.Dense(5, activation='softmax')\n",
    "])"
   ]
  },
  {
   "cell_type": "code",
   "execution_count": null,
   "metadata": {},
   "outputs": [],
   "source": [
    "history3 = {}\n",
    "history3[\"lenet5_sgd\"] = compile_and_fit(model_lenet5_l2_sgd,\n",
    "                                           train_Data= train_data,\n",
    "                                           validation_Data= valid_data,\n",
    "                                           max_epochs= 100,\n",
    "                                           callback_path= \"logs_lenet5\")"
   ]
  },
  {
   "cell_type": "code",
   "execution_count": null,
   "metadata": {},
   "outputs": [],
   "source": [
    "plotter = tfdocs.plots.HistoryPlotter(metric = 'acc')\n",
    "plotter.plot(history3)\n",
    "\n",
    "val_acc = history3[\"lenet5_sgd\"].history['val_acc']\n",
    "max_val_acc = max(val_acc)\n",
    "\n",
    "print(\"Maior valor de val_acc observado:\", max_val_acc)\n",
    "\n",
    "plt.axhline(max_val_acc, color='red', linestyle='dashed', label='Max val_acc')\n",
    "plt.legend()\n",
    "\n",
    "# Mostrar o gráfico\n",
    "plt.show()"
   ]
  },
  {
   "cell_type": "code",
   "execution_count": null,
   "metadata": {},
   "outputs": [],
   "source": [
    "predict = model.predict_generator(test_generator)\n",
    "\n",
    "get_best_hp(tuner_bayesian_optimization)"
   ]
  },
  {
   "cell_type": "code",
   "execution_count": null,
   "metadata": {},
   "outputs": [],
   "source": [
    "import matplotlib.pyplot as plt\n",
    "\n",
    "output_image = model_lenet5_l2.predict(test_data)\n",
    "plt.imshow(output_image)\n",
    "plt.show"
   ]
  },
  {
   "cell_type": "markdown",
   "metadata": {},
   "source": [
    "### LeNet5 - Dropouts 0.25"
   ]
  },
  {
   "cell_type": "code",
   "execution_count": null,
   "metadata": {},
   "outputs": [],
   "source": [
    "lr_schedule = tf.keras.optimizers.schedules.InverseTimeDecay(\n",
    "    0.001,\n",
    "    decay_steps= steps_per_epoch*100,\n",
    "    decay_rate=1,\n",
    "    staircase=False\n",
    ")\n",
    "\n",
    "def get_log_dir(path):\n",
    "    if not os.path.exists(path):\n",
    "        os.makedirs(path)\n",
    "        print(\"Pasta criada com sucesso\")\n",
    "    else:\n",
    "        print(\"A pasta já existe\")\n",
    "    return path\n",
    "\n",
    "\n",
    "def get_callbacks(path):\n",
    "    return [\n",
    "        tfdocs.modeling.EpochDots(),\n",
    "        tf.keras.callbacks.EarlyStopping(monitor='acc', patience=20, mode=\"max\"),\n",
    "        tf.keras.callbacks.TensorBoard(log_dir= get_log_dir(path)),\n",
    "    ]\n",
    "\n",
    "def get_optimizer():\n",
    "    return tf.keras.optimizers.Adam(lr_schedule)\n",
    "\n",
    "def compile_and_fit(model, train_Data, validation_Data, max_epochs, callback_path,optimizer= None):\n",
    "    if optimizer is None:\n",
    "        optimizer = get_optimizer()\n",
    "    model.compile(optimizer= optimizer,\n",
    "                         loss=tf.keras.losses.SparseCategoricalCrossentropy(from_logits=True),\n",
    "                         metrics= [\n",
    "                             keras.metrics.SparseCategoricalAccuracy(name=\"acc\"),\n",
    "                             keras.metrics.SparseTopKCategoricalAccuracy(2, name=\"top5-acc\")]\n",
    "                         )\n",
    "    model.summary()\n",
    "    \n",
    "    history = model.fit(\n",
    "        train_Data,\n",
    "        steps_per_epoch= steps_per_epoch,\n",
    "        validation_data= validation_Data,\n",
    "        epochs= max_epochs,\n",
    "        callbacks= get_callbacks(callback_path)\n",
    "    )\n",
    "    return history"
   ]
  },
  {
   "cell_type": "code",
   "execution_count": null,
   "metadata": {},
   "outputs": [],
   "source": [
    "\n",
    "# Definindo a arquitetura da LeNet-5\n",
    "model_lenet5_drop025 = tf.keras.Sequential([\n",
    "    tf.keras.layers.Conv2D(6, (3, 3), activation='relu',strides= (2,2), input_shape=(image_size, image_size, 3)),\n",
    "    tf.keras.layers.MaxPooling2D((2, 2)),\n",
    "    \n",
    "    tf.keras.layers.Conv2D(16, (3, 3), activation='relu', strides=(2,2)),\n",
    "    tf.keras.layers.MaxPooling2D((2, 2)),\n",
    "    \n",
    "    tf.keras.layers.Flatten(),\n",
    "    tf.keras.layers.Dense(120, activation='relu'),\n",
    "    tf.keras.layers.Dropout(rate=0.25),\n",
    "    \n",
    "    tf.keras.layers.Dense(84, activation='relu'),\n",
    "    tf.keras.layers.Dropout(rate=0.25),\n",
    "    \n",
    "    #TESTAR FUNÇAO SIGMOID (0)\n",
    "    tf.keras.layers.Dense(5, activation='softmax')\n",
    "])"
   ]
  },
  {
   "cell_type": "code",
   "execution_count": null,
   "metadata": {},
   "outputs": [],
   "source": [
    "history4 = {}\n",
    "history4[\"lenet5_drop025\"] = compile_and_fit(model_lenet5_drop025,\n",
    "                                           train_Data= train_data,\n",
    "                                           validation_Data= valid_data,\n",
    "                                           max_epochs= 100,\n",
    "                                           callback_path= \"logs_lenet5\")"
   ]
  },
  {
   "cell_type": "code",
   "execution_count": null,
   "metadata": {},
   "outputs": [],
   "source": [
    "plotter = tfdocs.plots.HistoryPlotter(metric = 'acc')\n",
    "plotter.plot(history4)\n",
    "\n",
    "val_acc = history4[\"lenet5_drop025\"].history['val_acc']\n",
    "max_val_acc = max(val_acc)\n",
    "\n",
    "print(\"Maior valor de val_acc observado:\", max_val_acc)\n",
    "\n",
    "plt.axhline(max_val_acc, color='red', linestyle='dashed', label='Max val_acc')\n",
    "plt.legend()\n",
    "\n",
    "# Mostrar o gráfico\n",
    "plt.show()"
   ]
  },
  {
   "cell_type": "markdown",
   "metadata": {},
   "source": [
    "### LeNet5 - Dropout 0.5 + L2"
   ]
  },
  {
   "cell_type": "code",
   "execution_count": null,
   "metadata": {},
   "outputs": [],
   "source": [
    "model_lenet5_dropout_l2 = tf.keras.Sequential([\n",
    "    tf.keras.layers.Conv2D(6, (3, 3), activation='relu',strides= (2,2), input_shape=(image_size, image_size, 3)),\n",
    "    tf.keras.layers.MaxPooling2D((2, 2)),\n",
    "    \n",
    "    tf.keras.layers.Conv2D(16, (3, 3), activation='relu', strides=(2,2)),\n",
    "    tf.keras.layers.MaxPooling2D((2, 2)),\n",
    "    \n",
    "    tf.keras.layers.Flatten(),\n",
    "    tf.keras.layers.Dense(120, activation='relu',\n",
    "                          kernel_regularizer= regularizers.l2(0.01)),\n",
    "    tf.keras.layers.Dropout(rate=0.5),\n",
    "    \n",
    "    tf.keras.layers.Dense(84, activation='relu',\n",
    "                          kernel_regularizer= regularizers.l2(0.01)),\n",
    "    tf.keras.layers.Dropout(rate=0.5),\n",
    "    \n",
    "    #TESTAR FUNÇAO SIGMOID (0)\n",
    "    tf.keras.layers.Dense(5, activation='softmax')])"
   ]
  },
  {
   "cell_type": "code",
   "execution_count": null,
   "metadata": {},
   "outputs": [],
   "source": [
    "history5 = {}\n",
    "history5[\"lenet5_drop_l2\"] = compile_and_fit(model_lenet5_dropout_l2,\n",
    "                                           train_Data= train_data,\n",
    "                                           validation_Data= valid_data,\n",
    "                                           max_epochs= 100,\n",
    "                                           callback_path= \"logs_lenet5_dropout_l2\")"
   ]
  },
  {
   "cell_type": "code",
   "execution_count": null,
   "metadata": {},
   "outputs": [],
   "source": [
    "plotter = tfdocs.plots.HistoryPlotter(metric = 'acc')\n",
    "plotter.plot(history5)\n",
    "\n",
    "val_acc = history5[\"lenet5_drop_l2\"].history['val_acc']\n",
    "max_val_acc = max(val_acc)\n",
    "\n",
    "print(\"Maior valor de val_acc observado:\", max_val_acc)\n",
    "\n",
    "plt.axhline(max_val_acc, color='red', linestyle='dashed', label='Max val_acc')\n",
    "plt.legend()\n",
    "\n",
    "# Mostrar o gráfico\n",
    "plt.show()"
   ]
  },
  {
   "cell_type": "markdown",
   "metadata": {},
   "source": [
    "### LeNet5 - (-MaxPooling)"
   ]
  },
  {
   "cell_type": "code",
   "execution_count": null,
   "metadata": {},
   "outputs": [],
   "source": [
    "model_lenet5_maxpooling = tf.keras.Sequential([\n",
    "    tf.keras.layers.Conv2D(6, (3, 3), activation='relu',strides= (2,2), input_shape=(image_size, image_size, 3)),\n",
    "    tf.keras.layers.Conv2D(16, (3, 3), activation='relu', strides=(2,2)),\n",
    "    \n",
    "    tf.keras.layers.Flatten(),\n",
    "    tf.keras.layers.Dense(120, activation='relu'),\n",
    "    tf.keras.layers.Dropout(rate=0.5),\n",
    "    \n",
    "    tf.keras.layers.Dense(84, activation='relu'),\n",
    "    tf.keras.layers.Dropout(rate=0.5),\n",
    "    \n",
    "    #TESTAR FUNÇAO SIGMOID (0)\n",
    "    tf.keras.layers.Dense(5, activation='softmax')])"
   ]
  },
  {
   "cell_type": "code",
   "execution_count": null,
   "metadata": {},
   "outputs": [],
   "source": [
    "history6 = {}\n",
    "history6[\"lenet5_drop_maxp\"] = compile_and_fit(model_lenet5_maxpooling,\n",
    "                                           train_Data= train_data,\n",
    "                                           validation_Data= valid_data,\n",
    "                                           max_epochs= 100,\n",
    "                                           callback_path= \"logs_lenet5_dropout_l2\")"
   ]
  },
  {
   "cell_type": "code",
   "execution_count": null,
   "metadata": {},
   "outputs": [],
   "source": [
    "plotter = tfdocs.plots.HistoryPlotter(metric = 'acc')\n",
    "plotter.plot(history6)\n",
    "\n",
    "val_acc = history6[\"lenet5_drop_maxp\"].history['val_acc']\n",
    "max_val_acc = max(val_acc)\n",
    "\n",
    "print(\"Maior valor de val_acc observado:\", max_val_acc)\n",
    "\n",
    "plt.axhline(max_val_acc, color='red', linestyle='dashed', label='Max val_acc')\n",
    "plt.legend()\n",
    "\n",
    "# Mostrar o gráfico\n",
    "plt.show()"
   ]
  },
  {
   "attachments": {},
   "cell_type": "markdown",
   "metadata": {},
   "source": [
    "## TensorBoard"
   ]
  },
  {
   "cell_type": "code",
   "execution_count": null,
   "metadata": {},
   "outputs": [],
   "source": [
    "import tensorboard\n",
    "%tensorboard --logdir ./logs\n"
   ]
  }
 ],
 "metadata": {
  "kernelspec": {
   "display_name": "venv",
   "language": "python",
   "name": "python3"
  },
  "language_info": {
   "codemirror_mode": {
    "name": "ipython",
    "version": 3
   },
   "file_extension": ".py",
   "mimetype": "text/x-python",
   "name": "python",
   "nbconvert_exporter": "python",
   "pygments_lexer": "ipython3",
   "version": "3.10.9"
  },
  "orig_nbformat": 4
 },
 "nbformat": 4,
 "nbformat_minor": 2
}
